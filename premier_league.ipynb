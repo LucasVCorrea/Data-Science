{
  "nbformat": 4,
  "nbformat_minor": 0,
  "metadata": {
    "colab": {
      "provenance": [],
      "authorship_tag": "ABX9TyNgFP221aB5kNIVPeis2gZl"
    },
    "kernelspec": {
      "name": "python3",
      "display_name": "Python 3"
    },
    "language_info": {
      "name": "python"
    }
  },
  "cells": [
    {
      "cell_type": "code",
      "execution_count": 36,
      "metadata": {
        "id": "PLfP7SYcc68x"
      },
      "outputs": [],
      "source": [
        "import pandas as pd\n",
        "df_tabla = pd.read_csv(\"/content/results.csv\")"
      ]
    },
    {
      "cell_type": "code",
      "source": [
        "df_tabla.info()"
      ],
      "metadata": {
        "id": "vmcobKnUdjRB"
      },
      "execution_count": null,
      "outputs": []
    },
    {
      "cell_type": "markdown",
      "source": [
        "Pantallazo"
      ],
      "metadata": {
        "id": "K31TOlAwK65G"
      }
    },
    {
      "cell_type": "code",
      "source": [
        "df_tabla.head()"
      ],
      "metadata": {
        "id": "V4_gbCgrCLp9"
      },
      "execution_count": null,
      "outputs": []
    },
    {
      "cell_type": "markdown",
      "source": [
        "Me quedo con las columnas que me interesan. Obtengo todos los goles que hicieron los equipos jugando como local desde la temporada 2007 a la 2018 en la Premier League"
      ],
      "metadata": {
        "id": "NPtjCgv1JNyW"
      }
    },
    {
      "cell_type": "code",
      "source": [
        "df_goles_local = df_tabla[[\"home_team\",\"home_goals\"]] \n",
        "df_goles_local.groupby([\"home_team\"]).sum() "
      ],
      "metadata": {
        "id": "XQsm4A7lyLPT"
      },
      "execution_count": null,
      "outputs": []
    },
    {
      "cell_type": "markdown",
      "source": [
        "Agrupo por equipo y aplico el maximo, el minimo y la media de goles que tuvo ese equipo de local durante la temporada 2006/2007 to 2017/2018"
      ],
      "metadata": {
        "id": "cGvluqWbKY_F"
      }
    },
    {
      "cell_type": "code",
      "source": [
        "agrupados = df_goles_local.groupby([\"home_team\"]).agg({\"home_goals\": [\"max\",\"min\",\"mean\"]})\n",
        "agrupados"
      ],
      "metadata": {
        "id": "uEgsaXdfJNdA"
      },
      "execution_count": null,
      "outputs": []
    },
    {
      "cell_type": "markdown",
      "source": [
        "Agrupo por equipo y aplico la cantidad de goles totales que tuvo desde la temporada 2006/2007 a la 2017/2018"
      ],
      "metadata": {
        "id": "ck1lIle6MHKO"
      }
    },
    {
      "cell_type": "code",
      "source": [
        "agrupados_cant_games_local = df_goles_local.groupby([\"home_team\"]).count()\n",
        "agrupados_cant_games_local.columns = [\"Tot_home_games\"]\n",
        "agrupados_cant_games_local"
      ],
      "metadata": {
        "id": "0jjlkVYqJdkp"
      },
      "execution_count": null,
      "outputs": []
    },
    {
      "cell_type": "markdown",
      "source": [
        "\n",
        "Intento hacer lo mismo pero solo para la temporada 2015- 2016"
      ],
      "metadata": {
        "id": "fOmSXcIOrhXj"
      }
    },
    {
      "cell_type": "code",
      "source": [
        "df_tabla[\"season_wanted\"] = df_tabla[\"season\"].map(lambda x: x == \"2015-2016\")\n",
        "df_goles_local_2015_2016 = df_tabla[[\"home_team\",\"home_goals\",\"season_wanted\"]]\n",
        "df_goles_local_2015_2016"
      ],
      "metadata": {
        "id": "sGkvzyBKjX_x"
      },
      "execution_count": null,
      "outputs": []
    },
    {
      "cell_type": "markdown",
      "source": [
        "Filto por los valores que son True en ´season_wanted´"
      ],
      "metadata": {
        "id": "v2-AVrjn26QA"
      }
    },
    {
      "cell_type": "code",
      "source": [
        "df_goles_local_2015_2016 = df_goles_local_2015_2016[df_goles_local_2015_2016['season_wanted'] == True]  \n",
        "\n",
        "df_goles_local_2015_2016_limpio = df_goles_local_2015_2016[[\"home_team\",\"home_goals\"]]\n",
        "df_goles_local_2015_2016_limpio"
      ],
      "metadata": {
        "id": "elToIeJMrpnP"
      },
      "execution_count": null,
      "outputs": []
    },
    {
      "cell_type": "markdown",
      "source": [
        "Tengo el Dataframe de las estadisticas de los goles que hicieron los equipos de la premier league en la temporada 2015 - 2016 jugando como local"
      ],
      "metadata": {
        "id": "qyTDQMBx9aiX"
      }
    },
    {
      "cell_type": "code",
      "source": [
        "estadisticas_local_2015_2016 = df_goles_local_2015_2016_limpio.groupby([\"home_team\"]).agg({\"home_goals\":[\"sum\", \"count\", \"max\",\"mean\"]})\n",
        "estadisticas_local_2015_2016.reset_index()"
      ],
      "metadata": {
        "id": "X1rAsYD5wvus"
      },
      "execution_count": null,
      "outputs": []
    },
    {
      "cell_type": "code",
      "source": [
        "df_tabla[\"season_wanted\"] = df_tabla[\"season\"].map(lambda x: x == \"2015-2016\")\n",
        "df_goles_visit_2015_2016 = df_tabla[[\"away_team\",\"away_goals\",\"season_wanted\"]]\n",
        "df_goles_visit_2015_2016\n",
        "\n",
        "df_goles_visit_2015_2016 = df_goles_visit_2015_2016[df_goles_visit_2015_2016['season_wanted'] == True]  \n",
        "\n",
        "df_goles_visit_2015_2016_limpio = df_goles_visit_2015_2016[[\"away_team\",\"away_goals\"]]\n",
        "df_goles_visit_2015_2016_limpio\n"
      ],
      "metadata": {
        "id": "7AFnTrs18V0u"
      },
      "execution_count": null,
      "outputs": []
    },
    {
      "cell_type": "markdown",
      "source": [
        "Tengo el Dataframe de las estadisticas de los goles que hicieron los equipos de la premier league en la temporada 2015 - 2016 jugando como visitante"
      ],
      "metadata": {
        "id": "QmsucAyd9oq7"
      }
    },
    {
      "cell_type": "code",
      "source": [
        "estadisticas_visit_2015_2016 = df_goles_visit_2015_2016_limpio.groupby([\"away_team\"]).agg({\"away_goals\":[\"sum\", \"count\", \"max\",\"mean\"]})\n",
        "estadisticas_visit_2015_2016.reset_index()"
      ],
      "metadata": {
        "id": "7eZ1YENc9mi5"
      },
      "execution_count": null,
      "outputs": []
    }
  ]
}