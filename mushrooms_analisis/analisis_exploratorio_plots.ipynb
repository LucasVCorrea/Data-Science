{
  "nbformat": 4,
  "nbformat_minor": 0,
  "metadata": {
    "colab": {
      "provenance": [],
      "collapsed_sections": [
        "qkAlwsFw_gt7",
        "13jFdUHC_7ZC"
      ],
      "authorship_tag": "ABX9TyOmYOFlylD8PLhSbI9CWJsi"
    },
    "kernelspec": {
      "name": "python3",
      "display_name": "Python 3"
    },
    "language_info": {
      "name": "python"
    }
  },
  "cells": [
    {
      "cell_type": "code",
      "execution_count": null,
      "metadata": {
        "colab": {
          "base_uri": "https://localhost:8080/"
        },
        "id": "tunbOEscke4q",
        "outputId": "a7fadb7b-ff18-4bd3-af02-d84353f9d018"
      },
      "outputs": [
        {
          "output_type": "stream",
          "name": "stdout",
          "text": [
            "Mounted at /content/drive\n"
          ]
        }
      ],
      "source": [
        "import pandas as pd\n",
        "import seaborn as sns\n",
        "from google.colab import drive\n",
        "import matplotlib as mpl\n",
        "from matplotlib import pyplot as plt\n",
        "drive.mount('/content/drive')"
      ]
    },
    {
      "cell_type": "code",
      "source": [
        "data_frame = pd.read_csv(\"/content/drive/MyDrive/Organizacion De Datos/trabajo_practico_2/secondary_data.csv\",sep=\";\")"
      ],
      "metadata": {
        "id": "9y2SB4Wmkp-b"
      },
      "execution_count": null,
      "outputs": []
    },
    {
      "cell_type": "code",
      "source": [
        "data_frame.head()"
      ],
      "metadata": {
        "colab": {
          "base_uri": "https://localhost:8080/",
          "height": 297
        },
        "id": "KGE3I_X68pIE",
        "outputId": "0a197e8b-b605-4165-ef1c-161d743d1da6"
      },
      "execution_count": null,
      "outputs": [
        {
          "output_type": "execute_result",
          "data": {
            "text/plain": [
              "  class  cap-diameter cap-shape cap-surface cap-color does-bruise-or-bleed  \\\n",
              "0     p         15.26         x           g         o                    f   \n",
              "1     p         16.60         x           g         o                    f   \n",
              "2     p         14.07         x           g         o                    f   \n",
              "3     p         14.17         f           h         e                    f   \n",
              "4     p         14.64         x           h         o                    f   \n",
              "\n",
              "  gill-attachment gill-spacing gill-color  stem-height  ...  stem-root  \\\n",
              "0               e          NaN          w        16.95  ...          s   \n",
              "1               e          NaN          w        17.99  ...          s   \n",
              "2               e          NaN          w        17.80  ...          s   \n",
              "3               e          NaN          w        15.77  ...          s   \n",
              "4               e          NaN          w        16.53  ...          s   \n",
              "\n",
              "  stem-surface stem-color veil-type veil-color has-ring ring-type  \\\n",
              "0            y          w         u          w        t         g   \n",
              "1            y          w         u          w        t         g   \n",
              "2            y          w         u          w        t         g   \n",
              "3            y          w         u          w        t         p   \n",
              "4            y          w         u          w        t         p   \n",
              "\n",
              "  spore-print-color habitat season  \n",
              "0               NaN       d      w  \n",
              "1               NaN       d      u  \n",
              "2               NaN       d      w  \n",
              "3               NaN       d      w  \n",
              "4               NaN       d      w  \n",
              "\n",
              "[5 rows x 21 columns]"
            ],
            "text/html": [
              "\n",
              "  <div id=\"df-9f1285b0-073b-414d-a9a4-9fc424648482\">\n",
              "    <div class=\"colab-df-container\">\n",
              "      <div>\n",
              "<style scoped>\n",
              "    .dataframe tbody tr th:only-of-type {\n",
              "        vertical-align: middle;\n",
              "    }\n",
              "\n",
              "    .dataframe tbody tr th {\n",
              "        vertical-align: top;\n",
              "    }\n",
              "\n",
              "    .dataframe thead th {\n",
              "        text-align: right;\n",
              "    }\n",
              "</style>\n",
              "<table border=\"1\" class=\"dataframe\">\n",
              "  <thead>\n",
              "    <tr style=\"text-align: right;\">\n",
              "      <th></th>\n",
              "      <th>class</th>\n",
              "      <th>cap-diameter</th>\n",
              "      <th>cap-shape</th>\n",
              "      <th>cap-surface</th>\n",
              "      <th>cap-color</th>\n",
              "      <th>does-bruise-or-bleed</th>\n",
              "      <th>gill-attachment</th>\n",
              "      <th>gill-spacing</th>\n",
              "      <th>gill-color</th>\n",
              "      <th>stem-height</th>\n",
              "      <th>...</th>\n",
              "      <th>stem-root</th>\n",
              "      <th>stem-surface</th>\n",
              "      <th>stem-color</th>\n",
              "      <th>veil-type</th>\n",
              "      <th>veil-color</th>\n",
              "      <th>has-ring</th>\n",
              "      <th>ring-type</th>\n",
              "      <th>spore-print-color</th>\n",
              "      <th>habitat</th>\n",
              "      <th>season</th>\n",
              "    </tr>\n",
              "  </thead>\n",
              "  <tbody>\n",
              "    <tr>\n",
              "      <th>0</th>\n",
              "      <td>p</td>\n",
              "      <td>15.26</td>\n",
              "      <td>x</td>\n",
              "      <td>g</td>\n",
              "      <td>o</td>\n",
              "      <td>f</td>\n",
              "      <td>e</td>\n",
              "      <td>NaN</td>\n",
              "      <td>w</td>\n",
              "      <td>16.95</td>\n",
              "      <td>...</td>\n",
              "      <td>s</td>\n",
              "      <td>y</td>\n",
              "      <td>w</td>\n",
              "      <td>u</td>\n",
              "      <td>w</td>\n",
              "      <td>t</td>\n",
              "      <td>g</td>\n",
              "      <td>NaN</td>\n",
              "      <td>d</td>\n",
              "      <td>w</td>\n",
              "    </tr>\n",
              "    <tr>\n",
              "      <th>1</th>\n",
              "      <td>p</td>\n",
              "      <td>16.60</td>\n",
              "      <td>x</td>\n",
              "      <td>g</td>\n",
              "      <td>o</td>\n",
              "      <td>f</td>\n",
              "      <td>e</td>\n",
              "      <td>NaN</td>\n",
              "      <td>w</td>\n",
              "      <td>17.99</td>\n",
              "      <td>...</td>\n",
              "      <td>s</td>\n",
              "      <td>y</td>\n",
              "      <td>w</td>\n",
              "      <td>u</td>\n",
              "      <td>w</td>\n",
              "      <td>t</td>\n",
              "      <td>g</td>\n",
              "      <td>NaN</td>\n",
              "      <td>d</td>\n",
              "      <td>u</td>\n",
              "    </tr>\n",
              "    <tr>\n",
              "      <th>2</th>\n",
              "      <td>p</td>\n",
              "      <td>14.07</td>\n",
              "      <td>x</td>\n",
              "      <td>g</td>\n",
              "      <td>o</td>\n",
              "      <td>f</td>\n",
              "      <td>e</td>\n",
              "      <td>NaN</td>\n",
              "      <td>w</td>\n",
              "      <td>17.80</td>\n",
              "      <td>...</td>\n",
              "      <td>s</td>\n",
              "      <td>y</td>\n",
              "      <td>w</td>\n",
              "      <td>u</td>\n",
              "      <td>w</td>\n",
              "      <td>t</td>\n",
              "      <td>g</td>\n",
              "      <td>NaN</td>\n",
              "      <td>d</td>\n",
              "      <td>w</td>\n",
              "    </tr>\n",
              "    <tr>\n",
              "      <th>3</th>\n",
              "      <td>p</td>\n",
              "      <td>14.17</td>\n",
              "      <td>f</td>\n",
              "      <td>h</td>\n",
              "      <td>e</td>\n",
              "      <td>f</td>\n",
              "      <td>e</td>\n",
              "      <td>NaN</td>\n",
              "      <td>w</td>\n",
              "      <td>15.77</td>\n",
              "      <td>...</td>\n",
              "      <td>s</td>\n",
              "      <td>y</td>\n",
              "      <td>w</td>\n",
              "      <td>u</td>\n",
              "      <td>w</td>\n",
              "      <td>t</td>\n",
              "      <td>p</td>\n",
              "      <td>NaN</td>\n",
              "      <td>d</td>\n",
              "      <td>w</td>\n",
              "    </tr>\n",
              "    <tr>\n",
              "      <th>4</th>\n",
              "      <td>p</td>\n",
              "      <td>14.64</td>\n",
              "      <td>x</td>\n",
              "      <td>h</td>\n",
              "      <td>o</td>\n",
              "      <td>f</td>\n",
              "      <td>e</td>\n",
              "      <td>NaN</td>\n",
              "      <td>w</td>\n",
              "      <td>16.53</td>\n",
              "      <td>...</td>\n",
              "      <td>s</td>\n",
              "      <td>y</td>\n",
              "      <td>w</td>\n",
              "      <td>u</td>\n",
              "      <td>w</td>\n",
              "      <td>t</td>\n",
              "      <td>p</td>\n",
              "      <td>NaN</td>\n",
              "      <td>d</td>\n",
              "      <td>w</td>\n",
              "    </tr>\n",
              "  </tbody>\n",
              "</table>\n",
              "<p>5 rows × 21 columns</p>\n",
              "</div>\n",
              "      <button class=\"colab-df-convert\" onclick=\"convertToInteractive('df-9f1285b0-073b-414d-a9a4-9fc424648482')\"\n",
              "              title=\"Convert this dataframe to an interactive table.\"\n",
              "              style=\"display:none;\">\n",
              "        \n",
              "  <svg xmlns=\"http://www.w3.org/2000/svg\" height=\"24px\"viewBox=\"0 0 24 24\"\n",
              "       width=\"24px\">\n",
              "    <path d=\"M0 0h24v24H0V0z\" fill=\"none\"/>\n",
              "    <path d=\"M18.56 5.44l.94 2.06.94-2.06 2.06-.94-2.06-.94-.94-2.06-.94 2.06-2.06.94zm-11 1L8.5 8.5l.94-2.06 2.06-.94-2.06-.94L8.5 2.5l-.94 2.06-2.06.94zm10 10l.94 2.06.94-2.06 2.06-.94-2.06-.94-.94-2.06-.94 2.06-2.06.94z\"/><path d=\"M17.41 7.96l-1.37-1.37c-.4-.4-.92-.59-1.43-.59-.52 0-1.04.2-1.43.59L10.3 9.45l-7.72 7.72c-.78.78-.78 2.05 0 2.83L4 21.41c.39.39.9.59 1.41.59.51 0 1.02-.2 1.41-.59l7.78-7.78 2.81-2.81c.8-.78.8-2.07 0-2.86zM5.41 20L4 18.59l7.72-7.72 1.47 1.35L5.41 20z\"/>\n",
              "  </svg>\n",
              "      </button>\n",
              "      \n",
              "  <style>\n",
              "    .colab-df-container {\n",
              "      display:flex;\n",
              "      flex-wrap:wrap;\n",
              "      gap: 12px;\n",
              "    }\n",
              "\n",
              "    .colab-df-convert {\n",
              "      background-color: #E8F0FE;\n",
              "      border: none;\n",
              "      border-radius: 50%;\n",
              "      cursor: pointer;\n",
              "      display: none;\n",
              "      fill: #1967D2;\n",
              "      height: 32px;\n",
              "      padding: 0 0 0 0;\n",
              "      width: 32px;\n",
              "    }\n",
              "\n",
              "    .colab-df-convert:hover {\n",
              "      background-color: #E2EBFA;\n",
              "      box-shadow: 0px 1px 2px rgba(60, 64, 67, 0.3), 0px 1px 3px 1px rgba(60, 64, 67, 0.15);\n",
              "      fill: #174EA6;\n",
              "    }\n",
              "\n",
              "    [theme=dark] .colab-df-convert {\n",
              "      background-color: #3B4455;\n",
              "      fill: #D2E3FC;\n",
              "    }\n",
              "\n",
              "    [theme=dark] .colab-df-convert:hover {\n",
              "      background-color: #434B5C;\n",
              "      box-shadow: 0px 1px 3px 1px rgba(0, 0, 0, 0.15);\n",
              "      filter: drop-shadow(0px 1px 2px rgba(0, 0, 0, 0.3));\n",
              "      fill: #FFFFFF;\n",
              "    }\n",
              "  </style>\n",
              "\n",
              "      <script>\n",
              "        const buttonEl =\n",
              "          document.querySelector('#df-9f1285b0-073b-414d-a9a4-9fc424648482 button.colab-df-convert');\n",
              "        buttonEl.style.display =\n",
              "          google.colab.kernel.accessAllowed ? 'block' : 'none';\n",
              "\n",
              "        async function convertToInteractive(key) {\n",
              "          const element = document.querySelector('#df-9f1285b0-073b-414d-a9a4-9fc424648482');\n",
              "          const dataTable =\n",
              "            await google.colab.kernel.invokeFunction('convertToInteractive',\n",
              "                                                     [key], {});\n",
              "          if (!dataTable) return;\n",
              "\n",
              "          const docLinkHtml = 'Like what you see? Visit the ' +\n",
              "            '<a target=\"_blank\" href=https://colab.research.google.com/notebooks/data_table.ipynb>data table notebook</a>'\n",
              "            + ' to learn more about interactive tables.';\n",
              "          element.innerHTML = '';\n",
              "          dataTable['output_type'] = 'display_data';\n",
              "          await google.colab.output.renderOutput(dataTable, element);\n",
              "          const docLink = document.createElement('div');\n",
              "          docLink.innerHTML = docLinkHtml;\n",
              "          element.appendChild(docLink);\n",
              "        }\n",
              "      </script>\n",
              "    </div>\n",
              "  </div>\n",
              "  "
            ]
          },
          "metadata": {},
          "execution_count": 3
        }
      ]
    },
    {
      "cell_type": "code",
      "source": [
        "grouped_by_class = data_frame.groupby('class').agg({'class':['count']}).reset_index()\n",
        "grouped_by_class.columns = ['class','total']"
      ],
      "metadata": {
        "id": "lE9dnHODnJ2_"
      },
      "execution_count": null,
      "outputs": []
    },
    {
      "cell_type": "code",
      "source": [
        "grouped_by_class['percentage'] = grouped_by_class['total']*100/len(data_frame)"
      ],
      "metadata": {
        "id": "6QD8TtoJpf5W"
      },
      "execution_count": null,
      "outputs": []
    },
    {
      "cell_type": "markdown",
      "source": [
        "# Funciones para mapear datos"
      ],
      "metadata": {
        "id": "mlYY_V2H_cSo"
      }
    },
    {
      "cell_type": "code",
      "source": [
        "def mapear_shapes(caracter):\n",
        "  traduccion = {\n",
        "      'b':'bell',\n",
        "      'c':'conical',\n",
        "      'x':'convex',\n",
        "      'f':'flat',\n",
        "      's':'shunken',\n",
        "      'p':'spherical',\n",
        "      'o':'others'\n",
        "  }\n",
        "  return traduccion[caracter]"
      ],
      "metadata": {
        "id": "lbWBVBYh-rlt"
      },
      "execution_count": null,
      "outputs": []
    },
    {
      "cell_type": "code",
      "source": [
        "def mapear_ring_type(caracter):\n",
        "  traduccion = {\n",
        "      'e':'evanescent',\n",
        "      'c':'cobwebby',\n",
        "      'r':'flaring',\n",
        "      'g':'grooved',\n",
        "      'l':'large',\n",
        "      'p':'pendant',\n",
        "      's':'sheathing',\n",
        "      'z':'zone',\n",
        "      'y':'scaly',\n",
        "      'm':'movable',\n",
        "      'f':'none',\n",
        "      '?':'unknown',\n",
        "  }\n",
        "  return traduccion[caracter]"
      ],
      "metadata": {
        "id": "OgmS7meOV1S6"
      },
      "execution_count": null,
      "outputs": []
    },
    {
      "cell_type": "code",
      "source": [
        "def mapear_class(caracter):\n",
        "  traduccion = {\n",
        "      'e':'edible',\n",
        "      'p':'poisonous',\n",
        "  }\n",
        "  return traduccion[caracter]"
      ],
      "metadata": {
        "id": "OF413OBC_qz4"
      },
      "execution_count": null,
      "outputs": []
    },
    {
      "cell_type": "code",
      "source": [
        "def mapear_season(caracter):\n",
        "  traduccion = {\n",
        "      'a':'autumm',\n",
        "      's':'spring',\n",
        "      'u':'summer',\n",
        "      'w':'winter',\n",
        "  }\n",
        "  return traduccion[caracter]"
      ],
      "metadata": {
        "id": "Dn9Mc2_JmZPl"
      },
      "execution_count": null,
      "outputs": []
    },
    {
      "cell_type": "code",
      "source": [
        "def mapear_surface(caracter):\n",
        "  traduccion = {\n",
        "      'i':'fibrous',\n",
        "      'g':'grooves',\n",
        "      'y':'scaly',\n",
        "      's':'smooth',\n",
        "      'h':'shiny',\n",
        "      'l':'leathery',\n",
        "      'k':'silky',\n",
        "      't':'sticky',\n",
        "      'w':'wrinkled',\n",
        "      'e':'fleshy',\n",
        "  }\n",
        "  return traduccion[caracter]"
      ],
      "metadata": {
        "id": "a19ac5aG9wsT"
      },
      "execution_count": null,
      "outputs": []
    },
    {
      "cell_type": "code",
      "source": [
        "def mapear_color(caracter):\n",
        "  traduccion = {\n",
        "      'n':'brown',\n",
        "      'b':'buff',\n",
        "      'g':'gray',\n",
        "      'r':'green',\n",
        "      'p':'pink',\n",
        "      'u':'purple',\n",
        "      'e':'red',\n",
        "      'w':'white',\n",
        "      'y':'yellow',\n",
        "      'l':'blue',\n",
        "      'o':'orange',\n",
        "      'k':'black',\n",
        "      'f':'none',\n",
        "  }\n",
        "  return traduccion[caracter]"
      ],
      "metadata": {
        "id": "GHZSjtzZrQyJ"
      },
      "execution_count": null,
      "outputs": []
    },
    {
      "cell_type": "code",
      "source": [
        "def mapear_gill_atach(caracter):\n",
        "  traduccion = {\n",
        "      'a':'adnate',\n",
        "      'x':'adnexed',\n",
        "      'd':'decurrent',\n",
        "      'e':'free',\n",
        "      's':'sinuate',\n",
        "      'p':'pores',\n",
        "      'f':'none',\n",
        "      '?':'unknown',\n",
        "      \n",
        "  }\n",
        "  return traduccion[caracter]"
      ],
      "metadata": {
        "id": "q70rZD-KtYAO"
      },
      "execution_count": null,
      "outputs": []
    },
    {
      "cell_type": "code",
      "source": [
        "def mapear_habitat(caracter):\n",
        "  traduccion = {\n",
        "      'h':'heaths',\n",
        "      'u':'urban',\n",
        "      'g':'grasses',\n",
        "      'w':'waste',\n",
        "      'l':'leaves',\n",
        "      'p':'paths',\n",
        "      'f':'none',\n",
        "      '?':'unknown',\n",
        "      'd':'woods',\n",
        "      'm':'meadows',\n",
        "      \n",
        "  }\n",
        "  return traduccion[caracter]"
      ],
      "metadata": {
        "id": "KBxGnBmL8Eq4"
      },
      "execution_count": null,
      "outputs": []
    },
    {
      "cell_type": "code",
      "source": [
        "data_frame[\"cap-shape\"] = data_frame[\"cap-shape\"].map(mapear_shapes)\n",
        "data_frame[\"class\"] = data_frame[\"class\"].map(mapear_class)\n",
        "data_frame[\"season\"] = data_frame[\"season\"].map(mapear_season)\n",
        "data_frame[\"cap-color\"] = data_frame[\"cap-color\"].map(mapear_color)\n",
        "data_frame[\"gill-color\"] = data_frame[\"gill-color\"].map(mapear_color)\n",
        "data_frame[\"habitat\"] = data_frame[\"habitat\"].map(mapear_habitat)"
      ],
      "metadata": {
        "id": "UXPDdOPy9nTY"
      },
      "execution_count": null,
      "outputs": []
    },
    {
      "cell_type": "markdown",
      "source": [
        "# Barplot"
      ],
      "metadata": {
        "id": "qkAlwsFw_gt7"
      }
    },
    {
      "cell_type": "code",
      "source": [
        "grouped_by_class = data_frame.groupby([\"class\", \"cap-shape\"]).agg({\"cap-shape\":[\"count\"]})"
      ],
      "metadata": {
        "id": "D4pvXaiclgHu"
      },
      "execution_count": null,
      "outputs": []
    },
    {
      "cell_type": "code",
      "source": [
        "grouped_by_class = grouped_by_class.reset_index()\n",
        "grouped_by_class.columns = [\"class\",\"shape\", \"total\"]"
      ],
      "metadata": {
        "id": "dx_Daxpn-QLW"
      },
      "execution_count": null,
      "outputs": []
    },
    {
      "cell_type": "code",
      "source": [
        "sns.barplot(data = grouped_by_class, x = 'shape', y = 'total' , hue = 'class', palette = {'edible':'BurlyWood', 'poisonous': '#6b45e3'} ).set(title='amount of mushrooms by shape')"
      ],
      "metadata": {
        "colab": {
          "base_uri": "https://localhost:8080/"
        },
        "id": "v2sHIK5VARk-",
        "outputId": "294c2bc6-a030-4642-f540-7237c9504eb4"
      },
      "execution_count": null,
      "outputs": [
        {
          "output_type": "execute_result",
          "data": {
            "text/plain": [
              "[Text(0.5, 1.0, 'amount of mushrooms by shape')]"
            ]
          },
          "metadata": {},
          "execution_count": 17
        },
        {
          "output_type": "display_data",
          "data": {
            "text/plain": [
              "<Figure size 640x480 with 1 Axes>"
            ],
            "image/png": "[encoded data removed]"
          },
          "metadata": {}
        }
      ]
    },
    {
      "cell_type": "markdown",
      "source": [
        "# Heatmap"
      ],
      "metadata": {
        "id": "13jFdUHC_7ZC"
      }
    },
    {
      "cell_type": "code",
      "source": [
        "grouped_by_color = data_frame.groupby(['cap-color','gill-color','class']).agg({ 'class':['count'] })"
      ],
      "metadata": {
        "id": "uPLMFmD_rQqq"
      },
      "execution_count": null,
      "outputs": []
    },
    {
      "cell_type": "code",
      "source": [
        "grouped_by_color = grouped_by_color.unstack()"
      ],
      "metadata": {
        "id": "hoWL014LxB-Q"
      },
      "execution_count": null,
      "outputs": []
    },
    {
      "cell_type": "code",
      "source": [
        "grouped_by_color = grouped_by_color.reset_index()\n",
        "grouped_by_color.columns = [\"outside_color\", \"inside_color\", \"edible\", \"poisonous\"]"
      ],
      "metadata": {
        "id": "1L9AwF60xY4c"
      },
      "execution_count": null,
      "outputs": []
    },
    {
      "cell_type": "code",
      "source": [
        "grouped_by_color = grouped_by_color.fillna(0)"
      ],
      "metadata": {
        "id": "R5bUTmTcx9HM"
      },
      "execution_count": null,
      "outputs": []
    },
    {
      "cell_type": "code",
      "source": [
        "grouped_by_color[\"prob_poisonous\"] = grouped_by_color[\"poisonous\"]*100 / (grouped_by_color.edible + grouped_by_color.poisonous)"
      ],
      "metadata": {
        "id": "d7GdkM1Dxom9"
      },
      "execution_count": null,
      "outputs": []
    },
    {
      "cell_type": "code",
      "source": [
        "matrix = grouped_by_color.pivot_table(values = 'prob_poisonous', index = \"inside_color\", columns=\"outside_color\").fillna(0)"
      ],
      "metadata": {
        "id": "1F4SgeQHBOqv"
      },
      "execution_count": null,
      "outputs": []
    },
    {
      "cell_type": "code",
      "source": [
        "#sns.set(rc={'figure.figsize':(12.7,5.27)})\n",
        "\n",
        "cmap = sns.color_palette(\"ch:s=-.2,r=.6\", as_cmap=True )\n",
        "ax = sns.heatmap(matrix,square=True,cmap=cmap, cbar_kws = {'label': 'probabilidad (%)'}, linewidth = .5) \n",
        "### Labels ###\n",
        "plt.title(\"Probabilidad de que un hongo sea venenoso por combinacion de colores\")\n",
        "plt.xlabel('color_pileo', fontsize = 12)\n",
        "plt.ylabel('color_himenio', fontsize = 12) "
      ],
      "metadata": {
        "colab": {
          "base_uri": "https://localhost:8080/"
        },
        "id": "IacDh3_In-eg",
        "outputId": "de13e751-7f5f-468b-84a5-8fcce4683016"
      },
      "execution_count": null,
      "outputs": [
        {
          "output_type": "execute_result",
          "data": {
            "text/plain": [
              "Text(77.92222222222227, 0.5, 'color_himenio')"
            ]
          },
          "metadata": {},
          "execution_count": 24
        },
        {
          "output_type": "display_data",
          "data": {
            "text/plain": [
              "<Figure size 640x480 with 2 Axes>"
            ],
            "image/png": "[encoded data removed]"
          },
          "metadata": {}
        }
      ]
    },
    {
      "cell_type": "markdown",
      "source": [
        "# Boxplot"
      ],
      "metadata": {
        "id": "nIwP5lbTFJE-"
      }
    },
    {
      "cell_type": "code",
      "source": [
        "sns.set(rc={'figure.figsize':(15.7,8.27)})\n",
        "sns.boxplot(data = data_frame, x ='ring-type' , y='stem-height', hue = 'class',width=0.5,fliersize=False,palette=[\"#66c2c2\", \"#9c7a59\"])\n",
        "\n",
        "plt.title(\"Clasificacion del hongo por altura y tipo de anillo\")\n",
        "plt.xlabel('Tipo de anillo', fontsize = 15)\n",
        "plt.ylabel('Altura del tallo', fontsize = 15) "
      ],
      "metadata": {
        "colab": {
          "base_uri": "https://localhost:8080/",
          "height": 766
        },
        "id": "KPq1iIN4Kmx9",
        "outputId": "391b4c34-d205-40c0-f4e5-dd589cdef815"
      },
      "execution_count": null,
      "outputs": [
        {
          "output_type": "execute_result",
          "data": {
            "text/plain": [
              "Text(0, 0.5, 'Altura del tallo')"
            ]
          },
          "metadata": {},
          "execution_count": 26
        },
        {
          "output_type": "display_data",
          "data": {
            "text/plain": [
              "<Figure size 1570x827 with 1 Axes>"
            ],
            "image/png": "[encoded data removed]"
          },
          "metadata": {}
        }
      ]
    }
  ]
}