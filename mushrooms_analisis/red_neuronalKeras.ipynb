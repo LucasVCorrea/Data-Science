{
  "nbformat": 4,
  "nbformat_minor": 0,
  "metadata": {
    "colab": {
      "provenance": [],
      "toc_visible": true,
      "authorship_tag": "ABX9TyP3TJYKdzo+sDolm7pUwRB+"
    },
    "kernelspec": {
      "name": "python3",
      "display_name": "Python 3"
    },
    "language_info": {
      "name": "python"
    }
  },
  "cells": [
    {
      "cell_type": "code",
      "execution_count": 118,
      "metadata": {
        "id": "tskP4zjA6-n1",
        "colab": {
          "base_uri": "https://localhost:8080/"
        },
        "outputId": "8a6f71d3-fdd2-431a-eea7-7663dd097f11"
      },
      "outputs": [
        {
          "output_type": "stream",
          "name": "stdout",
          "text": [
            "Looking in indexes: https://pypi.org/simple, https://us-python.pkg.dev/colab-wheels/public/simple/\n",
            "Requirement already satisfied: category_encoders in /usr/local/lib/python3.10/dist-packages (2.6.1)\n",
            "Requirement already satisfied: numpy>=1.14.0 in /usr/local/lib/python3.10/dist-packages (from category_encoders) (1.22.4)\n",
            "Requirement already satisfied: scikit-learn>=0.20.0 in /usr/local/lib/python3.10/dist-packages (from category_encoders) (1.2.2)\n",
            "Requirement already satisfied: scipy>=1.0.0 in /usr/local/lib/python3.10/dist-packages (from category_encoders) (1.10.1)\n",
            "Requirement already satisfied: statsmodels>=0.9.0 in /usr/local/lib/python3.10/dist-packages (from category_encoders) (0.13.5)\n",
            "Requirement already satisfied: pandas>=1.0.5 in /usr/local/lib/python3.10/dist-packages (from category_encoders) (1.5.3)\n",
            "Requirement already satisfied: patsy>=0.5.1 in /usr/local/lib/python3.10/dist-packages (from category_encoders) (0.5.3)\n",
            "Requirement already satisfied: python-dateutil>=2.8.1 in /usr/local/lib/python3.10/dist-packages (from pandas>=1.0.5->category_encoders) (2.8.2)\n",
            "Requirement already satisfied: pytz>=2020.1 in /usr/local/lib/python3.10/dist-packages (from pandas>=1.0.5->category_encoders) (2022.7.1)\n",
            "Requirement already satisfied: six in /usr/local/lib/python3.10/dist-packages (from patsy>=0.5.1->category_encoders) (1.16.0)\n",
            "Requirement already satisfied: joblib>=1.1.1 in /usr/local/lib/python3.10/dist-packages (from scikit-learn>=0.20.0->category_encoders) (1.2.0)\n",
            "Requirement already satisfied: threadpoolctl>=2.0.0 in /usr/local/lib/python3.10/dist-packages (from scikit-learn>=0.20.0->category_encoders) (3.1.0)\n",
            "Requirement already satisfied: packaging>=21.3 in /usr/local/lib/python3.10/dist-packages (from statsmodels>=0.9.0->category_encoders) (23.1)\n",
            "Drive already mounted at /content/drive; to attempt to forcibly remount, call drive.mount(\"/content/drive\", force_remount=True).\n"
          ]
        }
      ],
      "source": [
        "import pandas as pd\n",
        "from google.colab import drive\n",
        "\n",
        "from sklearn.model_selection import RandomizedSearchCV\n",
        "from sklearn.preprocessing import OneHotEncoder\n",
        "from sklearn.linear_model import LogisticRegression\n",
        "from sklearn import tree\n",
        "import numpy as np\n",
        "\n",
        "!pip install --upgrade category_encoders\n",
        "import category_encoders  as ce\n",
        "from matplotlib import pyplot as plt\n",
        "\n",
        "drive.mount('/content/drive')"
      ]
    },
    {
      "cell_type": "code",
      "source": [
        "data_frame = pd.read_csv(\"/content/drive/MyDrive/Organizacion De Datos/trabajo_practico_2/secondary_data.csv\",sep=\";\")"
      ],
      "metadata": {
        "id": "isBtg8WP_rHY"
      },
      "execution_count": 119,
      "outputs": []
    },
    {
      "cell_type": "markdown",
      "source": [
        "Para aquellas filas con mucho porcentaje de nans ***(a mi criterio, las que tienen+60%)*** , voy a fillearlas con 'unknown', mientras que aquellas que tengan porcentaje bajo, voy a usar el **'most-frequent strategy'** de simpleImputer"
      ],
      "metadata": {
        "id": "rumsB9qpdcl2"
      }
    },
    {
      "cell_type": "code",
      "source": [
        "(( len(data_frame) - data_frame.count() )*100 / len(data_frame)).nlargest(len(data_frame.columns))"
      ],
      "metadata": {
        "colab": {
          "base_uri": "https://localhost:8080/"
        },
        "id": "LmZDEKHeztTW",
        "outputId": "5cfff0ef-0e30-43d3-989f-708d5abdf3f7"
      },
      "execution_count": 120,
      "outputs": [
        {
          "output_type": "execute_result",
          "data": {
            "text/plain": [
              "veil-type               94.797688\n",
              "spore-print-color       89.595376\n",
              "veil-color              87.861272\n",
              "stem-root               84.393064\n",
              "stem-surface            62.427746\n",
              "gill-spacing            41.040462\n",
              "cap-surface             23.121387\n",
              "gill-attachment         16.184971\n",
              "ring-type                4.046243\n",
              "class                    0.000000\n",
              "stem-color               0.000000\n",
              "habitat                  0.000000\n",
              "has-ring                 0.000000\n",
              "stem-width               0.000000\n",
              "cap-diameter             0.000000\n",
              "stem-height              0.000000\n",
              "gill-color               0.000000\n",
              "does-bruise-or-bleed     0.000000\n",
              "cap-color                0.000000\n",
              "cap-shape                0.000000\n",
              "season                   0.000000\n",
              "dtype: float64"
            ]
          },
          "metadata": {},
          "execution_count": 120
        }
      ]
    },
    {
      "cell_type": "markdown",
      "source": [
        "# Separando la variable a predecir"
      ],
      "metadata": {
        "id": "5D1Je1WATR8E"
      }
    },
    {
      "cell_type": "code",
      "source": [
        "X = data_frame.drop('class', axis=1)\n",
        "y = data_frame['class']"
      ],
      "metadata": {
        "id": "j1Rd4fNZOvRq"
      },
      "execution_count": 121,
      "outputs": []
    },
    {
      "cell_type": "code",
      "source": [
        "y = y.map({\"e\":1,\"p\":0})"
      ],
      "metadata": {
        "id": "VhI8jMV0vlD8"
      },
      "execution_count": 122,
      "outputs": []
    },
    {
      "cell_type": "markdown",
      "source": [
        "# Division de sets"
      ],
      "metadata": {
        "id": "c-kfRNZeTWDH"
      }
    },
    {
      "cell_type": "code",
      "source": [
        "from sklearn.model_selection import train_test_split\n",
        "\n",
        "X_train, X_test, y_train, y_test = train_test_split(X, y, test_size=0.2, random_state=13)\n",
        "X_validation, X_test, y_validation, y_test = train_test_split(X_test, y_test, test_size=0.5, random_state=13)"
      ],
      "metadata": {
        "id": "Qu9LQ8sMO4Ty"
      },
      "execution_count": 123,
      "outputs": []
    },
    {
      "cell_type": "markdown",
      "source": [
        "guardo el indice ya que despues de usar el SimpleImputer se me pierde ( lo necesito para mean encoding de category_encoders ) "
      ],
      "metadata": {
        "id": "cHb0Yx-sAMbO"
      }
    },
    {
      "cell_type": "code",
      "source": [
        "X_train_saved_index =  X_train.index\n",
        "X_validation_saved_index = X_validation.index\n",
        "X_test_saved_index = X_test.index"
      ],
      "metadata": {
        "id": "wTLtj9DLAYjE"
      },
      "execution_count": 124,
      "outputs": []
    },
    {
      "cell_type": "markdown",
      "source": [
        "# Imputacion "
      ],
      "metadata": {
        "id": "-GVQApusK0tv"
      }
    },
    {
      "cell_type": "markdown",
      "source": [
        "`Imputacion 1) Reemplazar por una constante`"
      ],
      "metadata": {
        "id": "jyTLRGi8Sebf"
      }
    },
    {
      "cell_type": "code",
      "source": [
        "X_train[ ['veil-type','spore-print-color','veil-color','stem-root','stem-surface'] ] = X_train[ ['veil-type','spore-print-color','veil-color','stem-root','stem-surface'] ].fillna('unknown')\n",
        "X_validation[ ['veil-type','spore-print-color','veil-color','stem-root','stem-surface'] ] = X_validation[ ['veil-type','spore-print-color','veil-color','stem-root','stem-surface'] ].fillna('unknown')\n",
        "X_test[ ['veil-type','spore-print-color','veil-color','stem-root','stem-surface'] ] = X_test[ ['veil-type','spore-print-color','veil-color','stem-root','stem-surface'] ].fillna('unknown')"
      ],
      "metadata": {
        "id": "azPr33kUAb9F"
      },
      "execution_count": 125,
      "outputs": []
    },
    {
      "cell_type": "markdown",
      "source": [
        "`Imputacion 2) Reemplazar por el mas frecuente`"
      ],
      "metadata": {
        "id": "zJrhOhixSnSC"
      }
    },
    {
      "cell_type": "code",
      "source": [
        "from sklearn.impute import SimpleImputer\n",
        "simple = SimpleImputer(strategy='most_frequent')"
      ],
      "metadata": {
        "id": "tIzMXrZ-M29W"
      },
      "execution_count": 126,
      "outputs": []
    },
    {
      "cell_type": "code",
      "source": [
        "X_train = pd.DataFrame(simple.fit_transform(X_train), columns = X_train.columns)\n",
        "X_validation = pd.DataFrame(simple.transform(X_validation), columns = X_validation.columns)\n",
        "X_test = pd.DataFrame(simple.transform(X_test), columns = X_test.columns)"
      ],
      "metadata": {
        "id": "GjG7hs3HM-mo"
      },
      "execution_count": 127,
      "outputs": []
    },
    {
      "cell_type": "markdown",
      "source": [
        "acá vuelvo a pasar las medidas a float porque se me pasaron a objeto"
      ],
      "metadata": {
        "id": "3UUVgWIQA3fP"
      }
    },
    {
      "cell_type": "code",
      "source": [
        "X_train[ ['cap-diameter', 'stem-height', 'stem-width'] ] = X_train[ ['cap-diameter', 'stem-height', 'stem-width'] ].astype(float)\n",
        "X_validation[ ['cap-diameter', 'stem-height', 'stem-width'] ] = X_validation[ ['cap-diameter', 'stem-height', 'stem-width'] ].astype(float)\n",
        "X_test[ ['cap-diameter', 'stem-height', 'stem-width'] ] = X_test[ ['cap-diameter', 'stem-height', 'stem-width'] ].astype(float)"
      ],
      "metadata": {
        "id": "Za55QQeQ8uZp"
      },
      "execution_count": 128,
      "outputs": []
    },
    {
      "cell_type": "markdown",
      "source": [
        "reemplazo el indice por el original"
      ],
      "metadata": {
        "id": "woLXsm1SEptz"
      }
    },
    {
      "cell_type": "code",
      "source": [
        "X_train.index = X_train_saved_index\n",
        "X_validation.index = X_validation_saved_index \n",
        "X_test.index = X_test_saved_index"
      ],
      "metadata": {
        "id": "MbkdTzNBXcpk"
      },
      "execution_count": 129,
      "outputs": []
    },
    {
      "cell_type": "markdown",
      "source": [
        "# Encodings "
      ],
      "metadata": {
        "id": "NMRMoyepTdkR"
      }
    },
    {
      "cell_type": "markdown",
      "source": [
        "Mean Encoding"
      ],
      "metadata": {
        "id": "-Cu820nPFUW-"
      }
    },
    {
      "cell_type": "code",
      "source": [
        "meanEncod = ce.TargetEncoder(cols = ['cap-surface'\t, 'gill-attachment'\t])"
      ],
      "metadata": {
        "id": "ROQ8wewqViNz"
      },
      "execution_count": 130,
      "outputs": []
    },
    {
      "cell_type": "code",
      "source": [
        "X_train = meanEncod.fit_transform(X_train, y_train)\n",
        "X_validation = meanEncod.transform(X_validation)\n",
        "X_test =  meanEncod.transform(X_test)"
      ],
      "metadata": {
        "id": "4Y20bFV9-vEU"
      },
      "execution_count": 131,
      "outputs": []
    },
    {
      "cell_type": "markdown",
      "source": [
        "OHE Encoding"
      ],
      "metadata": {
        "id": "YX6Klgr7K5FF"
      }
    },
    {
      "cell_type": "code",
      "source": [
        "ohe_ring = OneHotEncoder()\n",
        "\n",
        "encoded_ring_train = ohe_ring.fit_transform(X_train[['has-ring']]).todense().astype(int)\n",
        "encoded_ring_validation = ohe_ring.transform(X_validation[['has-ring']]).todense().astype(int)\n",
        "encoded_ring_test = ohe_ring.transform(X_test[['has-ring']]).todense().astype(int)\n",
        "\n",
        "encoded_bruise_train = ohe_ring.fit_transform(X_train[['does-bruise-or-bleed']]).todense().astype(int)\n",
        "encoded_bruise_validation = ohe_ring.transform(X_validation[['does-bruise-or-bleed']]).todense().astype(int)\n",
        "encoded_bruise_test = ohe_ring.transform(X_test[['does-bruise-or-bleed']]).todense().astype(int)"
      ],
      "metadata": {
        "id": "Y9Tjg1u8S7ce"
      },
      "execution_count": 132,
      "outputs": []
    },
    {
      "cell_type": "code",
      "source": [
        "X_train['has-ring'] = encoded_ring_train\n",
        "X_validation['has-ring'] = encoded_ring_validation\n",
        "X_test['has-ring'] = encoded_ring_test\n",
        "\n",
        "X_train['does-bruise-or-bleed'] = encoded_bruise_train\n",
        "X_validation['does-bruise-or-bleed'] = encoded_bruise_validation\n",
        "X_test['does-bruise-or-bleed'] = encoded_bruise_test"
      ],
      "metadata": {
        "id": "a0uBX9J3TStK"
      },
      "execution_count": 133,
      "outputs": []
    },
    {
      "cell_type": "markdown",
      "source": [
        "Binary Encoding"
      ],
      "metadata": {
        "id": "APv3tYphK7on"
      }
    },
    {
      "cell_type": "code",
      "source": [
        "bin_encoded = ce.BinaryEncoder(cols=[\"cap-shape\",\"cap-color\",\"gill-spacing\",\"gill-color\",\"stem-root\",\"stem-surface\",\n",
        "                                     \"stem-color\",\"veil-type\",\"veil-color\",\"ring-type\",\"spore-print-color\",\"habitat\" ,\"season\"], return_df = True,)\n",
        "\n",
        "X_train = bin_encoded.fit_transform(X_train)\n",
        "X_validation = bin_encoded.transform(X_validation)\n",
        "X_test = bin_encoded.transform(X_test)"
      ],
      "metadata": {
        "id": "bX4Pn1lGRtf5"
      },
      "execution_count": 134,
      "outputs": []
    },
    {
      "cell_type": "markdown",
      "source": [
        "# Keras "
      ],
      "metadata": {
        "id": "LjlqHsZDFwP9"
      }
    },
    {
      "cell_type": "code",
      "source": [
        "import tensorflow as tf\n",
        "from tensorflow.keras.models import Sequential\n",
        "from tensorflow.keras.layers import Dense\n",
        "from tensorflow.keras.optimizers import Adam"
      ],
      "metadata": {
        "id": "gc0DiqMDF0UR"
      },
      "execution_count": 135,
      "outputs": []
    },
    {
      "cell_type": "code",
      "source": [
        "X_train.shape"
      ],
      "metadata": {
        "colab": {
          "base_uri": "https://localhost:8080/"
        },
        "id": "GavOnPYKMslJ",
        "outputId": "2f26a9cb-7ef1-4960-818a-f1455e6f4df8"
      },
      "execution_count": 136,
      "outputs": [
        {
          "output_type": "execute_result",
          "data": {
            "text/plain": [
              "(48855, 51)"
            ]
          },
          "metadata": {},
          "execution_count": 136
        }
      ]
    },
    {
      "cell_type": "code",
      "source": [
        "y_train.shape"
      ],
      "metadata": {
        "colab": {
          "base_uri": "https://localhost:8080/"
        },
        "id": "dYh791LiMvZB",
        "outputId": "918c27a5-5b5a-4b2b-f845-4605b55ffd1e"
      },
      "execution_count": 137,
      "outputs": [
        {
          "output_type": "execute_result",
          "data": {
            "text/plain": [
              "(48855,)"
            ]
          },
          "metadata": {},
          "execution_count": 137
        }
      ]
    },
    {
      "cell_type": "markdown",
      "source": [
        "Uso 'Sigmoid' como funcion de activacion ya que da la proba entre 0 y 1"
      ],
      "metadata": {
        "id": "5mvsozF0C1SZ"
      }
    },
    {
      "cell_type": "code",
      "source": [
        "tf.keras.utils.set_random_seed(13)\n",
        "model = Sequential([\n",
        "    Dense(10, activation=\"sigmoid\", input_shape=(51,)),\n",
        "    Dense(5, activation=\"sigmoid\",input_shape=(51,)),\n",
        "    Dense(1, activation=\"sigmoid\",input_shape=(51,))\n",
        "])\n",
        "model.summary()"
      ],
      "metadata": {
        "id": "FCLPZqPIGlQb",
        "colab": {
          "base_uri": "https://localhost:8080/"
        },
        "outputId": "fa61d3a5-3d72-4ea2-eb6c-af9fff5be904"
      },
      "execution_count": 138,
      "outputs": [
        {
          "output_type": "stream",
          "name": "stdout",
          "text": [
            "Model: \"sequential_4\"\n",
            "_________________________________________________________________\n",
            " Layer (type)                Output Shape              Param #   \n",
            "=================================================================\n",
            " dense_12 (Dense)            (None, 10)                520       \n",
            "                                                                 \n",
            " dense_13 (Dense)            (None, 5)                 55        \n",
            "                                                                 \n",
            " dense_14 (Dense)            (None, 1)                 6         \n",
            "                                                                 \n",
            "=================================================================\n",
            "Total params: 581\n",
            "Trainable params: 581\n",
            "Non-trainable params: 0\n",
            "_________________________________________________________________\n"
          ]
        }
      ]
    },
    {
      "cell_type": "markdown",
      "source": [
        "y para la loss uso 'binary_crossentropy' ya que el problema es de clasificacion binaria"
      ],
      "metadata": {
        "id": "pAO-5tRsDaIe"
      }
    },
    {
      "cell_type": "code",
      "source": [
        "model.compile(loss = 'binary_crossentropy',metrics=[\"AUC\"], optimizer = Adam(0.001))"
      ],
      "metadata": {
        "id": "EzFS74AAHQuH"
      },
      "execution_count": 139,
      "outputs": []
    },
    {
      "cell_type": "code",
      "source": [
        "model.fit(X_train, y_train, epochs = 10, batch_size = 32)"
      ],
      "metadata": {
        "colab": {
          "base_uri": "https://localhost:8080/"
        },
        "id": "agahg3Q68G8K",
        "outputId": "4935bf6f-b440-49b1-d6da-f263d0a3e3c1"
      },
      "execution_count": 140,
      "outputs": [
        {
          "output_type": "stream",
          "name": "stdout",
          "text": [
            "Epoch 1/10\n",
            "1527/1527 [==============================] - 2s 1ms/step - loss: 0.6082 - auc: 0.7469\n",
            "Epoch 2/10\n",
            "1527/1527 [==============================] - 2s 1ms/step - loss: 0.4485 - auc: 0.8784\n",
            "Epoch 3/10\n",
            "1527/1527 [==============================] - 3s 2ms/step - loss: 0.3635 - auc: 0.9223\n",
            "Epoch 4/10\n",
            "1527/1527 [==============================] - 4s 2ms/step - loss: 0.2929 - auc: 0.9511\n",
            "Epoch 5/10\n",
            "1527/1527 [==============================] - 3s 2ms/step - loss: 0.2283 - auc: 0.9718\n",
            "Epoch 6/10\n",
            "1527/1527 [==============================] - 3s 2ms/step - loss: 0.1731 - auc: 0.9855\n",
            "Epoch 7/10\n",
            "1527/1527 [==============================] - 4s 2ms/step - loss: 0.1344 - auc: 0.9917\n",
            "Epoch 8/10\n",
            "1527/1527 [==============================] - 3s 2ms/step - loss: 0.1075 - auc: 0.9947\n",
            "Epoch 9/10\n",
            "1527/1527 [==============================] - 2s 1ms/step - loss: 0.0881 - auc: 0.9965\n",
            "Epoch 10/10\n",
            "1527/1527 [==============================] - 2s 1ms/step - loss: 0.0739 - auc: 0.9975\n"
          ]
        },
        {
          "output_type": "execute_result",
          "data": {
            "text/plain": [
              "<keras.callbacks.History at 0x7f2dfb6ea8f0>"
            ]
          },
          "metadata": {},
          "execution_count": 140
        }
      ]
    },
    {
      "cell_type": "code",
      "source": [
        "predicts = model.predict(X_validation)"
      ],
      "metadata": {
        "colab": {
          "base_uri": "https://localhost:8080/"
        },
        "id": "LXyjdsZF_J_u",
        "outputId": "1bd292eb-7afe-4ee3-f816-b2235e0ddfb7"
      },
      "execution_count": 141,
      "outputs": [
        {
          "output_type": "stream",
          "name": "stdout",
          "text": [
            "191/191 [==============================] - 0s 800us/step\n"
          ]
        }
      ]
    },
    {
      "cell_type": "markdown",
      "source": [
        "## Score para validacion"
      ],
      "metadata": {
        "id": "nmEpjyvAMizj"
      }
    },
    {
      "cell_type": "code",
      "source": [
        "from sklearn.metrics import roc_auc_score\n",
        "roc_auc_score(y_validation, predicts)"
      ],
      "metadata": {
        "colab": {
          "base_uri": "https://localhost:8080/"
        },
        "id": "yfja74OebrKa",
        "outputId": "f5e0d064-a199-4f71-aa67-b2f724d46fa2"
      },
      "execution_count": 142,
      "outputs": [
        {
          "output_type": "execute_result",
          "data": {
            "text/plain": [
              "0.998149903775476"
            ]
          },
          "metadata": {},
          "execution_count": 142
        }
      ]
    },
    {
      "cell_type": "code",
      "source": [
        "# 0.998149903775476"
      ],
      "metadata": {
        "id": "P7wI1ezKCeR-"
      },
      "execution_count": 143,
      "outputs": []
    },
    {
      "cell_type": "markdown",
      "source": [
        "## Score para test"
      ],
      "metadata": {
        "id": "KuhyUSJ2Mlx_"
      }
    },
    {
      "cell_type": "code",
      "source": [
        "predicts_for_test = model.predict(X_test)"
      ],
      "metadata": {
        "colab": {
          "base_uri": "https://localhost:8080/"
        },
        "id": "oiTMO2yyQleQ",
        "outputId": "c41a38fb-08cc-4a68-e8dd-19ac219b9d5f"
      },
      "execution_count": 144,
      "outputs": [
        {
          "output_type": "stream",
          "name": "stdout",
          "text": [
            "191/191 [==============================] - 0s 726us/step\n"
          ]
        }
      ]
    },
    {
      "cell_type": "code",
      "source": [
        "roc_auc_score(y_test,predicts_for_test)"
      ],
      "metadata": {
        "colab": {
          "base_uri": "https://localhost:8080/"
        },
        "id": "gm-tw3Ri9ntC",
        "outputId": "dd958475-7384-4bc4-e551-8b9f99e1f57a"
      },
      "execution_count": 145,
      "outputs": [
        {
          "output_type": "execute_result",
          "data": {
            "text/plain": [
              "0.9983660769089857"
            ]
          },
          "metadata": {},
          "execution_count": 145
        }
      ]
    },
    {
      "cell_type": "code",
      "source": [
        "# 0.9983660769089857"
      ],
      "metadata": {
        "id": "7yxsAG79MfYa"
      },
      "execution_count": 146,
      "outputs": []
    }
  ]
}