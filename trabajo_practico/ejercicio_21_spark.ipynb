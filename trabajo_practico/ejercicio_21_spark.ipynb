{
  "nbformat": 4,
  "nbformat_minor": 0,
  "metadata": {
    "colab": {
      "provenance": [],
      "authorship_tag": "ABX9TyPKkm3uGCaEQWq3V5MbNK6/"
    },
    "kernelspec": {
      "name": "python3",
      "display_name": "Python 3"
    },
    "language_info": {
      "name": "python"
    }
  },
  "cells": [
    {
      "cell_type": "code",
      "execution_count": null,
      "metadata": {
        "id": "jL-vf7ABp1WG"
      },
      "outputs": [],
      "source": [
        "# El contenido con mayor cantidad de de acciones realizadas para todos los tipos posibles de acciones (⭐⭐⭐)."
      ]
    },
    {
      "cell_type": "code",
      "source": [
        "from google.colab import drive\n",
        "drive.mount('/content/drive')"
      ],
      "metadata": {
        "colab": {
          "base_uri": "https://localhost:8080/"
        },
        "id": "i1rB1xnyWUPW",
        "outputId": "18c69f92-2b07-4850-ca49-5b559ae7d0a0"
      },
      "execution_count": null,
      "outputs": [
        {
          "output_type": "stream",
          "name": "stdout",
          "text": [
            "Mounted at /content/drive\n"
          ]
        }
      ]
    },
    {
      "cell_type": "code",
      "execution_count": null,
      "metadata": {
        "id": "n8xkFyF7WO6D"
      },
      "outputs": [],
      "source": [
        "!pip install pyspark\n",
        "!pip install -U -q PyDrive\n",
        "!apt update\n",
        "!apt install openjdk-8-jdk-headless -qq\n",
        "import os\n",
        "os.environ[\"JAVA_HOME\"] = \"/usr/lib/jvm/java-8-openjdk-amd64\""
      ]
    },
    {
      "cell_type": "code",
      "source": [
        "from pyspark.sql import *\n",
        "from pyspark.sql.functions import *\n",
        "from pyspark import SparkContext\n",
        "from pyspark.sql import SQLContext\n",
        "import pandas as pd\n",
        "import re as regex"
      ],
      "metadata": {
        "id": "3AmWdKKhWTUE"
      },
      "execution_count": null,
      "outputs": []
    },
    {
      "cell_type": "code",
      "source": [
        "spark = SparkSession.builder.getOrCreate()\n",
        "sc = spark.sparkContext"
      ],
      "metadata": {
        "id": "8woxoq2kWXc0"
      },
      "execution_count": null,
      "outputs": []
    },
    {
      "cell_type": "code",
      "source": [
        "rdd_logs = spark.read.csv('/content/drive/MyDrive/Organizacion De Datos/Trabajo_practico/logs.csv', header=True, inferSchema=True, multiLine=True, escape='\"').rdd"
      ],
      "metadata": {
        "id": "q1d2SWmymBuR"
      },
      "execution_count": null,
      "outputs": []
    },
    {
      "cell_type": "code",
      "source": [
        "rdd_logs.first()"
      ],
      "metadata": {
        "colab": {
          "base_uri": "https://localhost:8080/"
        },
        "id": "uL7GDyi2oc9c",
        "outputId": "86c2eb2f-82d3-479b-914f-ef81b857f425"
      },
      "execution_count": null,
      "outputs": [
        {
          "output_type": "execute_result",
          "data": {
            "text/plain": [
              "Row(item_id=1, timestamp=datetime.datetime(2004, 12, 23, 7, 10, 9), contributor_username='Sabbut', contributor_id=2075, contributor_ip=None, comment=\"el contenido era: 'Si aprendés Pensamiento Científico ... TE VA S AENTERAR'\", logtype='delete', action='delete', title='Verificacionismo')"
            ]
          },
          "metadata": {},
          "execution_count": 7
        }
      ]
    },
    {
      "cell_type": "code",
      "source": [
        "rdd_logs_cached = rdd_logs.filter(lambda x:x.contributor_id!=None and x.action!=None and x.title!=None and \":\" not in x.title).cache()"
      ],
      "metadata": {
        "id": "7j6w8ihk0ozu"
      },
      "execution_count": null,
      "outputs": []
    },
    {
      "cell_type": "code",
      "source": [
        "rdd_logs_cached = rdd_logs_cached.map(lambda x:  ((x.title,x.action), 1)  ).reduceByKey(lambda a,b: a+b).cache()"
      ],
      "metadata": {
        "id": "mAowV3TIXwYn"
      },
      "execution_count": null,
      "outputs": []
    },
    {
      "cell_type": "code",
      "source": [
        "rdd_logs_cached.map(lambda x:( x[0][1], (x[1], x[0][0]) ) ).take(10)"
      ],
      "metadata": {
        "colab": {
          "base_uri": "https://localhost:8080/"
        },
        "id": "wj5JNgJxaxnq",
        "outputId": "a5d0f947-e5d8-4675-f1eb-f79bc59c1861"
      },
      "execution_count": null,
      "outputs": [
        {
          "output_type": "execute_result",
          "data": {
            "text/plain": [
              "[('delete', (1, 'Autovalvula')),\n",
              " ('delete', (1, 'MIDI')),\n",
              " ('delete', (7, 'Socialismo científico')),\n",
              " ('delete', (1, 'WMV')),\n",
              " ('delete', (1, 'Wight')),\n",
              " ('delete', (1, 'Gran Telescopio Canarias')),\n",
              " ('delete', (1, 'Adeodato I')),\n",
              " ('delete', (1, 'Gestion del Conocimiento')),\n",
              " ('delete', (1, 'Dispensar')),\n",
              " ('delete', (2, 'Juicio de Paris'))]"
            ]
          },
          "metadata": {},
          "execution_count": 19
        }
      ]
    },
    {
      "cell_type": "code",
      "source": [
        "rdd_final = rdd_logs_cached.map(lambda x:( x[0][1], (x[1], x[0][0]) ) )"
      ],
      "metadata": {
        "id": "DrHeBgf1ghZh"
      },
      "execution_count": null,
      "outputs": []
    },
    {
      "cell_type": "markdown",
      "source": [
        "Respuesta: El contenido con más acciones realizadas para cada accion. ('Action' , (# acciones, titulo del contenido)"
      ],
      "metadata": {
        "id": "yY_rXzrd48kY"
      }
    },
    {
      "cell_type": "code",
      "source": [
        "rdd_final.reduceByKey(lambda a,b: a if a[0] > b[0] else b).collect()"
      ],
      "metadata": {
        "colab": {
          "base_uri": "https://localhost:8080/"
        },
        "id": "HwglOB0SSlTZ",
        "outputId": "a4314495-ce71-4c13-ae05-97d1d58d4926"
      },
      "execution_count": null,
      "outputs": [
        {
          "output_type": "execute_result",
          "data": {
            "text/plain": [
              "[('delete', (77, 'Agarradera (química)')),\n",
              " ('move', (14, 'La Concordia (Nicaragua)')),\n",
              " ('move_redir', (15, 'Suspenso')),\n",
              " ('protect', (37, 'José de San Martín')),\n",
              " ('restore', (15, 'Abel Azcona')),\n",
              " ('unprotect', (12, 'Cataluña')),\n",
              " ('patrol', (4, 'Yoshitoshi')),\n",
              " ('modify', (23, 'Cristina Fernández de Kirchner')),\n",
              " ('move_prot', (9, 'Rebelión en Libia de 2011')),\n",
              " ('revision', (43, 'Detención de Milagro Sala')),\n",
              " ('add', (57, '(commons)')),\n",
              " ('update', (113, 'Bandera del Reino Unido')),\n",
              " ('selfadd', (15, 'Ingeniería de software')),\n",
              " ('delete_redir', (11, 'Negre Lloma')),\n",
              " ('remove', (3, 'Hot Pockets')),\n",
              " ('create', (12, 'Charlotte Caniggia')),\n",
              " ('selfremove', (3, 'Software')),\n",
              " ('review', (13, 'Ingeniería de software')),\n",
              " ('addlink', (1, 'Ethel Spears')),\n",
              " ('unreview', (4, 'San Ángel')),\n",
              " ('renameuser', (1, 'Spain')),\n",
              " ('merge', (2, 'Amortiguación')),\n",
              " ('upload', (2, 'Lobo hombre en París')),\n",
              " ('skipbadns', (14, 'User Calypso')),\n",
              " ('interwiki', (2, 'Actinozoa'))]"
            ]
          },
          "metadata": {},
          "execution_count": 22
        }
      ]
    }
  ]
}