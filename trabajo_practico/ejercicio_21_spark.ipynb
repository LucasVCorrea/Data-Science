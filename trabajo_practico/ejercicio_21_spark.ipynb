{
  "nbformat": 4,
  "nbformat_minor": 0,
  "metadata": {
    "colab": {
      "provenance": [],
      "authorship_tag": "ABX9TyOBfJTeyewENmXbhxRFnv79",
      "include_colab_link": true
    },
    "kernelspec": {
      "name": "python3",
      "display_name": "Python 3"
    },
    "language_info": {
      "name": "python"
    }
  },
  "cells": [
    {
      "cell_type": "markdown",
      "metadata": {
        "id": "view-in-github",
        "colab_type": "text"
      },
      "source": [
        "<a href=\"https://colab.research.google.com/github/LucasVCorrea/Data-Science/blob/main/trabajo_practico/ejercicio_21_spark.ipynb\" target=\"_parent\"><img src=\"https://colab.research.google.com/assets/colab-badge.svg\" alt=\"Open In Colab\"/></a>"
      ]
    },
    {
      "cell_type": "code",
      "execution_count": 1,
      "metadata": {
        "id": "jL-vf7ABp1WG"
      },
      "outputs": [],
      "source": [
        "# El contenido con mayor cantidad de de acciones realizadas para todos los tipos posibles de acciones (⭐⭐⭐)."
      ]
    },
    {
      "cell_type": "code",
      "source": [
        "from google.colab import drive\n",
        "drive.mount('/content/drive')"
      ],
      "metadata": {
        "colab": {
          "base_uri": "https://localhost:8080/"
        },
        "id": "i1rB1xnyWUPW",
        "outputId": "8c33e13e-11d9-4482-fc85-d0f225f14957"
      },
      "execution_count": 2,
      "outputs": [
        {
          "output_type": "stream",
          "name": "stdout",
          "text": [
            "Mounted at /content/drive\n"
          ]
        }
      ]
    },
    {
      "cell_type": "code",
      "execution_count": 3,
      "metadata": {
        "id": "n8xkFyF7WO6D",
        "colab": {
          "base_uri": "https://localhost:8080/"
        },
        "outputId": "89372993-6546-4eda-8ed2-7c7c8b96aefe"
      },
      "outputs": [
        {
          "output_type": "stream",
          "name": "stdout",
          "text": [
            "Looking in indexes: https://pypi.org/simple, https://us-python.pkg.dev/colab-wheels/public/simple/\n",
            "Collecting pyspark\n",
            "  Downloading pyspark-3.4.0.tar.gz (310.8 MB)\n",
            "\u001b[2K     \u001b[90m━━━━━━━━━━━━━━━━━━━━━━━━━━━━━━━━━━━━━━━\u001b[0m \u001b[32m310.8/310.8 MB\u001b[0m \u001b[31m4.1 MB/s\u001b[0m eta \u001b[36m0:00:00\u001b[0m\n",
            "\u001b[?25h  Preparing metadata (setup.py) ... \u001b[?25l\u001b[?25hdone\n",
            "Requirement already satisfied: py4j==0.10.9.7 in /usr/local/lib/python3.10/dist-packages (from pyspark) (0.10.9.7)\n",
            "Building wheels for collected packages: pyspark\n",
            "  Building wheel for pyspark (setup.py) ... \u001b[?25l\u001b[?25hdone\n",
            "  Created wheel for pyspark: filename=pyspark-3.4.0-py2.py3-none-any.whl size=311317145 sha256=1ae5895c2a3ad5b2d5cec6b36636a6abb5edbf726aedf6d5af275cc74ab45837\n",
            "  Stored in directory: /root/.cache/pip/wheels/7b/1b/4b/3363a1d04368e7ff0d408e57ff57966fcdf00583774e761327\n",
            "Successfully built pyspark\n",
            "Installing collected packages: pyspark\n",
            "Successfully installed pyspark-3.4.0\n",
            "Get:1 https://cloud.r-project.org/bin/linux/ubuntu focal-cran40/ InRelease [3,622 B]\n",
            "Hit:2 http://ppa.launchpad.net/c2d4u.team/c2d4u4.0+/ubuntu focal InRelease\n",
            "Hit:3 http://archive.ubuntu.com/ubuntu focal InRelease\n",
            "Get:4 http://security.ubuntu.com/ubuntu focal-security InRelease [114 kB]\n",
            "Get:5 http://archive.ubuntu.com/ubuntu focal-updates InRelease [114 kB]\n",
            "Hit:6 http://ppa.launchpad.net/cran/libgit2/ubuntu focal InRelease\n",
            "Get:7 https://developer.download.nvidia.com/compute/cuda/repos/ubuntu2004/x86_64  InRelease [1,581 B]\n",
            "Hit:8 http://ppa.launchpad.net/deadsnakes/ppa/ubuntu focal InRelease\n",
            "Get:9 http://archive.ubuntu.com/ubuntu focal-backports InRelease [108 kB]\n",
            "Hit:10 http://ppa.launchpad.net/graphics-drivers/ppa/ubuntu focal InRelease\n",
            "Hit:11 http://ppa.launchpad.net/ubuntugis/ppa/ubuntu focal InRelease\n",
            "Get:12 http://security.ubuntu.com/ubuntu focal-security/main amd64 Packages [2,668 kB]\n",
            "Get:13 https://developer.download.nvidia.com/compute/cuda/repos/ubuntu2004/x86_64  Packages [1,007 kB]\n",
            "Get:14 http://archive.ubuntu.com/ubuntu focal-updates/main amd64 Packages [3,150 kB]\n",
            "Fetched 7,166 kB in 3s (2,519 kB/s)\n",
            "Reading package lists... Done\n",
            "Building dependency tree       \n",
            "Reading state information... Done\n",
            "25 packages can be upgraded. Run 'apt list --upgradable' to see them.\n",
            "The following additional packages will be installed:\n",
            "  libxtst6 openjdk-8-jre-headless\n",
            "Suggested packages:\n",
            "  openjdk-8-demo openjdk-8-source libnss-mdns fonts-dejavu-extra\n",
            "  fonts-ipafont-gothic fonts-ipafont-mincho fonts-wqy-microhei\n",
            "  fonts-wqy-zenhei fonts-indic\n",
            "The following NEW packages will be installed:\n",
            "  libxtst6 openjdk-8-jdk-headless openjdk-8-jre-headless\n",
            "0 upgraded, 3 newly installed, 0 to remove and 25 not upgraded.\n",
            "Need to get 36.5 MB of archives.\n",
            "After this operation, 144 MB of additional disk space will be used.\n",
            "Selecting previously unselected package libxtst6:amd64.\n",
            "(Reading database ... 122518 files and directories currently installed.)\n",
            "Preparing to unpack .../libxtst6_2%3a1.2.3-1_amd64.deb ...\n",
            "Unpacking libxtst6:amd64 (2:1.2.3-1) ...\n",
            "Selecting previously unselected package openjdk-8-jre-headless:amd64.\n",
            "Preparing to unpack .../openjdk-8-jre-headless_8u362-ga-0ubuntu1~20.04.1_amd64.deb ...\n",
            "Unpacking openjdk-8-jre-headless:amd64 (8u362-ga-0ubuntu1~20.04.1) ...\n",
            "Selecting previously unselected package openjdk-8-jdk-headless:amd64.\n",
            "Preparing to unpack .../openjdk-8-jdk-headless_8u362-ga-0ubuntu1~20.04.1_amd64.deb ...\n",
            "Unpacking openjdk-8-jdk-headless:amd64 (8u362-ga-0ubuntu1~20.04.1) ...\n",
            "Setting up libxtst6:amd64 (2:1.2.3-1) ...\n",
            "Setting up openjdk-8-jre-headless:amd64 (8u362-ga-0ubuntu1~20.04.1) ...\n",
            "update-alternatives: using /usr/lib/jvm/java-8-openjdk-amd64/jre/bin/orbd to provide /usr/bin/orbd (orbd) in auto mode\n",
            "update-alternatives: using /usr/lib/jvm/java-8-openjdk-amd64/jre/bin/servertool to provide /usr/bin/servertool (servertool) in auto mode\n",
            "update-alternatives: using /usr/lib/jvm/java-8-openjdk-amd64/jre/bin/tnameserv to provide /usr/bin/tnameserv (tnameserv) in auto mode\n",
            "Setting up openjdk-8-jdk-headless:amd64 (8u362-ga-0ubuntu1~20.04.1) ...\n",
            "update-alternatives: using /usr/lib/jvm/java-8-openjdk-amd64/bin/idlj to provide /usr/bin/idlj (idlj) in auto mode\n",
            "update-alternatives: using /usr/lib/jvm/java-8-openjdk-amd64/bin/wsimport to provide /usr/bin/wsimport (wsimport) in auto mode\n",
            "update-alternatives: using /usr/lib/jvm/java-8-openjdk-amd64/bin/jsadebugd to provide /usr/bin/jsadebugd (jsadebugd) in auto mode\n",
            "update-alternatives: using /usr/lib/jvm/java-8-openjdk-amd64/bin/native2ascii to provide /usr/bin/native2ascii (native2ascii) in auto mode\n",
            "update-alternatives: using /usr/lib/jvm/java-8-openjdk-amd64/bin/javah to provide /usr/bin/javah (javah) in auto mode\n",
            "update-alternatives: using /usr/lib/jvm/java-8-openjdk-amd64/bin/hsdb to provide /usr/bin/hsdb (hsdb) in auto mode\n",
            "update-alternatives: using /usr/lib/jvm/java-8-openjdk-amd64/bin/clhsdb to provide /usr/bin/clhsdb (clhsdb) in auto mode\n",
            "update-alternatives: using /usr/lib/jvm/java-8-openjdk-amd64/bin/xjc to provide /usr/bin/xjc (xjc) in auto mode\n",
            "update-alternatives: using /usr/lib/jvm/java-8-openjdk-amd64/bin/schemagen to provide /usr/bin/schemagen (schemagen) in auto mode\n",
            "update-alternatives: using /usr/lib/jvm/java-8-openjdk-amd64/bin/extcheck to provide /usr/bin/extcheck (extcheck) in auto mode\n",
            "update-alternatives: using /usr/lib/jvm/java-8-openjdk-amd64/bin/jhat to provide /usr/bin/jhat (jhat) in auto mode\n",
            "update-alternatives: using /usr/lib/jvm/java-8-openjdk-amd64/bin/wsgen to provide /usr/bin/wsgen (wsgen) in auto mode\n",
            "Processing triggers for libc-bin (2.31-0ubuntu9.9) ...\n"
          ]
        }
      ],
      "source": [
        "!pip install pyspark\n",
        "!pip install -U -q PyDrive\n",
        "!apt update\n",
        "!apt install openjdk-8-jdk-headless -qq\n",
        "import os\n",
        "os.environ[\"JAVA_HOME\"] = \"/usr/lib/jvm/java-8-openjdk-amd64\""
      ]
    },
    {
      "cell_type": "code",
      "source": [
        "from pyspark.sql import *\n",
        "from pyspark.sql.functions import *\n",
        "from pyspark import SparkContext\n",
        "from pyspark.sql import SQLContext\n",
        "import pandas as pd\n",
        "import re as regex"
      ],
      "metadata": {
        "id": "3AmWdKKhWTUE"
      },
      "execution_count": 4,
      "outputs": []
    },
    {
      "cell_type": "code",
      "source": [
        "spark = SparkSession.builder.getOrCreate()\n",
        "sc = spark.sparkContext"
      ],
      "metadata": {
        "id": "8woxoq2kWXc0"
      },
      "execution_count": 5,
      "outputs": []
    },
    {
      "cell_type": "code",
      "source": [
        "rdd_logs = spark.read.csv('/content/drive/MyDrive/Organizacion De Datos/Trabajo_practico/logs.csv', header=True, inferSchema=True, multiLine=True, escape='\"').rdd\n",
        "#.select('item_id', 'action').rdd"
      ],
      "metadata": {
        "id": "q1d2SWmymBuR"
      },
      "execution_count": 6,
      "outputs": []
    },
    {
      "cell_type": "code",
      "source": [
        "rdd_logs.first()"
      ],
      "metadata": {
        "colab": {
          "base_uri": "https://localhost:8080/"
        },
        "id": "uL7GDyi2oc9c",
        "outputId": "4eac8af2-e34a-43e0-a6ff-cd4fb92ae266"
      },
      "execution_count": 9,
      "outputs": [
        {
          "output_type": "execute_result",
          "data": {
            "text/plain": [
              "Row(item_id=1, timestamp=datetime.datetime(2004, 12, 23, 7, 10, 9), contributor_username='Sabbut', contributor_id=2075, contributor_ip=None, comment=\"el contenido era: 'Si aprendés Pensamiento Científico ... TE VA S AENTERAR'\", logtype='delete', action='delete', title='Verificacionismo')"
            ]
          },
          "metadata": {},
          "execution_count": 9
        }
      ]
    },
    {
      "cell_type": "code",
      "source": [
        "rdd_logs_regex = rdd_logs.filter(lambda x:x.contributor_id!=None and x.action!=None and x.title!=None and \":\" not in x.title)"
      ],
      "metadata": {
        "id": "7j6w8ihk0ozu"
      },
      "execution_count": 25,
      "outputs": []
    },
    {
      "cell_type": "code",
      "source": [
        "# rdd_logs_regex.map(lambda x:x.action).distinct().collect()"
      ],
      "metadata": {
        "colab": {
          "base_uri": "https://localhost:8080/"
        },
        "id": "GLDbOkQCsawZ",
        "outputId": "d3130656-fa1b-45ae-b308-f83119e8dc63"
      },
      "execution_count": 26,
      "outputs": [
        {
          "output_type": "execute_result",
          "data": {
            "text/plain": [
              "['delete',\n",
              " 'protect',\n",
              " 'restore',\n",
              " 'unprotect',\n",
              " 'move',\n",
              " 'move_redir',\n",
              " 'renameuser',\n",
              " 'modify',\n",
              " 'patrol',\n",
              " 'upload',\n",
              " 'move_prot',\n",
              " 'revision',\n",
              " 'interwiki',\n",
              " 'selfadd',\n",
              " 'selfremove',\n",
              " 'review',\n",
              " 'skipbadns',\n",
              " 'add',\n",
              " 'remove',\n",
              " 'unreview',\n",
              " 'merge',\n",
              " 'update',\n",
              " 'delete_redir',\n",
              " 'create',\n",
              " 'addlink']"
            ]
          },
          "metadata": {},
          "execution_count": 26
        }
      ]
    },
    {
      "cell_type": "code",
      "source": [
        "rdd_logs_regex_uso = rdd_logs_regex.map(lambda x:  ((x.title,x.action), 1)  ).reduceByKey(lambda a,b: a+b)"
      ],
      "metadata": {
        "id": "mAowV3TIXwYn"
      },
      "execution_count": 28,
      "outputs": []
    },
    {
      "cell_type": "code",
      "source": [
        "# rdd_logs_regex_uso.take(10)"
      ],
      "metadata": {
        "id": "v1r4XjW8LVXt",
        "colab": {
          "base_uri": "https://localhost:8080/"
        },
        "outputId": "d2d6dfeb-98a6-47de-f49a-28a6550d06b2"
      },
      "execution_count": 29,
      "outputs": [
        {
          "output_type": "execute_result",
          "data": {
            "text/plain": [
              "[(('Pepe La Morcilla', 'delete'), 2),\n",
              " (('José Félix Esquivel', 'delete'), 1),\n",
              " ((\"L'Anse aux Meadows\", 'delete'), 1),\n",
              " (('Eduardo Toba', 'delete'), 2),\n",
              " (('De que murio christell?', 'delete'), 1),\n",
              " (('Golden Latinoamerica', 'delete'), 1),\n",
              " (('Putón Verbenero', 'delete'), 1),\n",
              " (('Pepiuken', 'protect'), 1),\n",
              " (('Asamblea de cuba', 'delete'), 1),\n",
              " (('FERNANDO APARICIO BUENO', 'delete'), 1)]"
            ]
          },
          "metadata": {},
          "execution_count": 29
        }
      ]
    },
    {
      "cell_type": "code",
      "source": [
        "rdd_logs_regex_uso.map(lambda x:( x[0][1], (x[1], x[0][0]) ) ).take(10)"
      ],
      "metadata": {
        "colab": {
          "base_uri": "https://localhost:8080/"
        },
        "id": "wj5JNgJxaxnq",
        "outputId": "658475f5-d427-473a-81c0-db16ea8a1b23"
      },
      "execution_count": 30,
      "outputs": [
        {
          "output_type": "execute_result",
          "data": {
            "text/plain": [
              "[('delete', (4, 'Ambiplasma')),\n",
              " ('delete', (1, 'Gloria fuertes')),\n",
              " ('delete', (6, 'Bandera de la República Dominicana')),\n",
              " ('delete', (1, 'Juego de mesa')),\n",
              " ('delete', (2, 'Gobierno y política de República de Macedonia')),\n",
              " ('delete', (1, 'Campeche (ciudad)')),\n",
              " ('delete', (1, 'Los Molares (Sevilla)')),\n",
              " ('delete', (1, 'Tres Fuentes')),\n",
              " ('delete', (3, 'Manuela Sáenz')),\n",
              " ('delete', (6, 'José Antonio Correa'))]"
            ]
          },
          "metadata": {},
          "execution_count": 30
        }
      ]
    },
    {
      "cell_type": "code",
      "source": [
        "rdd_final = rdd_logs_regex_uso.map(lambda x:( x[0][1], (x[1], x[0][0]) ) )"
      ],
      "metadata": {
        "id": "DrHeBgf1ghZh"
      },
      "execution_count": 31,
      "outputs": []
    },
    {
      "cell_type": "code",
      "source": [
        "rdd_final.take(12)"
      ],
      "metadata": {
        "colab": {
          "base_uri": "https://localhost:8080/"
        },
        "id": "OPqZ-IIfheX5",
        "outputId": "b4b634d6-672f-4bd6-f885-e3bd73984838"
      },
      "execution_count": 32,
      "outputs": [
        {
          "output_type": "execute_result",
          "data": {
            "text/plain": [
              "[('delete', (2, 'Cómico')),\n",
              " ('delete', (2, 'Exodo')),\n",
              " ('delete', (2, 'Arganza (León)')),\n",
              " ('delete', (1, 'Hoplita')),\n",
              " ('delete', (2, 'Municipio de Ensenada')),\n",
              " ('delete', (1, 'Municipio de General Arenales')),\n",
              " ('delete', (1, 'Sega System')),\n",
              " ('delete', (1, 'Eritropoyesis')),\n",
              " ('delete', (2, 'Humillación sexual')),\n",
              " ('delete', (1, 'Elasmobranchii')),\n",
              " ('delete', (25, 'Alfabeto arameo')),\n",
              " ('delete', (3, 'Woodstock'))]"
            ]
          },
          "metadata": {},
          "execution_count": 32
        }
      ]
    },
    {
      "cell_type": "markdown",
      "source": [
        "Respuesta: El contenido con más acciones realizadas para cada accion."
      ],
      "metadata": {
        "id": "yY_rXzrd48kY"
      }
    },
    {
      "cell_type": "code",
      "source": [
        "rdd_final.reduceByKey(lambda a,b: a if a[0] > b[0] else b).collect()"
      ],
      "metadata": {
        "colab": {
          "base_uri": "https://localhost:8080/"
        },
        "id": "HwglOB0SSlTZ",
        "outputId": "ddc6f59f-ccc1-47af-dd4d-ba568674fe4a"
      },
      "execution_count": 35,
      "outputs": [
        {
          "output_type": "execute_result",
          "data": {
            "text/plain": [
              "[('delete', (77, 'Agarradera (química)')),\n",
              " ('restore', (15, 'Abel Azcona')),\n",
              " ('move', (14, 'La Concordia (Nicaragua)')),\n",
              " ('move_redir', (15, 'Suspenso')),\n",
              " ('protect', (37, 'José de San Martín')),\n",
              " ('unprotect', (12, 'Cataluña')),\n",
              " ('patrol', (4, 'Yoshitoshi')),\n",
              " ('modify', (23, 'Cristina Fernández de Kirchner')),\n",
              " ('move_prot', (9, 'Rebelión en Libia de 2011')),\n",
              " ('revision', (43, 'Detención de Milagro Sala')),\n",
              " ('selfadd', (15, 'Ingeniería de software')),\n",
              " ('add', (57, '(commons)')),\n",
              " ('review', (13, 'Ingeniería de software')),\n",
              " ('selfremove', (3, 'Infraestructura (tecnología)')),\n",
              " ('remove', (3, 'Hot Pockets')),\n",
              " ('merge', (2, 'Amortiguación')),\n",
              " ('delete_redir', (11, 'Negre Lloma')),\n",
              " ('create', (12, 'Charlotte Caniggia')),\n",
              " ('update', (113, 'Bandera del Reino Unido')),\n",
              " ('addlink', (1, 'David Malet Armstrong')),\n",
              " ('unreview', (4, 'San Ángel')),\n",
              " ('interwiki', (2, 'Actinozoa')),\n",
              " ('skipbadns', (14, 'User Calypso')),\n",
              " ('upload', (2, \"Théorème d'Al-Kashi\")),\n",
              " ('renameuser', (1, 'MarlboroRED'))]"
            ]
          },
          "metadata": {},
          "execution_count": 35
        }
      ]
    }
  ]
}