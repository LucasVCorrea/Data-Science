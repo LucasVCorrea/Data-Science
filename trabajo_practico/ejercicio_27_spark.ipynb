{
  "nbformat": 4,
  "nbformat_minor": 0,
  "metadata": {
    "colab": {
      "provenance": [],
      "authorship_tag": "ABX9TyOd3xfAf1XHc4X8chRdMzmx"
    },
    "kernelspec": {
      "name": "python3",
      "display_name": "Python 3"
    },
    "language_info": {
      "name": "python"
    }
  },
  "cells": [
    {
      "cell_type": "code",
      "execution_count": 1,
      "metadata": {
        "id": "B7Vkdn9SPcFW"
      },
      "outputs": [],
      "source": [
        "#La probabilidad de que la versión actual de un contenido fuera editada sin dejar comentario para usuarios que están logueados y que no están logueados (⭐)"
      ]
    },
    {
      "cell_type": "code",
      "source": [
        "!pip install pyspark\n",
        "!pip install -U -q PyDrive\n",
        "!apt update\n",
        "!apt install openjdk-8-jdk-headless -qq\n",
        "#!apt install default-jre\n",
        "#!apt install default-jdk+\n",
        "import os\n",
        "os.environ[\"JAVA_HOME\"] = \"/usr/lib/jvm/java-8-openjdk-amd64\""
      ],
      "metadata": {
        "id": "VyB8Yj1fXe6f"
      },
      "execution_count": null,
      "outputs": []
    },
    {
      "cell_type": "code",
      "source": [
        "from pyspark.sql import *\n",
        "from pyspark.sql.functions import *\n",
        "from pyspark import SparkContext\n",
        "from pyspark.sql import SQLContext\n",
        "import pandas as pd"
      ],
      "metadata": {
        "id": "rAAANEB1X9gH"
      },
      "execution_count": 3,
      "outputs": []
    },
    {
      "cell_type": "code",
      "source": [
        "from google.colab import drive\n",
        "drive.mount('/content/drive')"
      ],
      "metadata": {
        "colab": {
          "base_uri": "https://localhost:8080/"
        },
        "id": "FncrvMH_P3h3",
        "outputId": "646d3565-d362-4722-d7c9-27feca95bca1"
      },
      "execution_count": 4,
      "outputs": [
        {
          "output_type": "stream",
          "name": "stdout",
          "text": [
            "Mounted at /content/drive\n"
          ]
        }
      ]
    },
    {
      "cell_type": "code",
      "source": [
        "spark = SparkSession.builder.getOrCreate()\n",
        "sc = spark.sparkContext"
      ],
      "metadata": {
        "id": "LSipv6tAYdpw"
      },
      "execution_count": 5,
      "outputs": []
    },
    {
      "cell_type": "code",
      "source": [
        "sqlContext = SQLContext(sc)\n",
        "df = sqlContext.read.csv('/content/drive/MyDrive/Organizacion De Datos/Trabajo_practico/contents.csv', header=True, inferSchema=True)\n",
        "rdd = df.rdd"
      ],
      "metadata": {
        "id": "pEHUxYl9YohR",
        "colab": {
          "base_uri": "https://localhost:8080/"
        },
        "outputId": "4f94d015-0a33-423e-a65f-d858ab47e2ca"
      },
      "execution_count": 6,
      "outputs": [
        {
          "output_type": "stream",
          "name": "stderr",
          "text": [
            "/usr/local/lib/python3.9/dist-packages/pyspark/sql/context.py:112: FutureWarning: Deprecated in 3.0.0. Use SparkSession.builder.getOrCreate() instead.\n",
            "  warnings.warn(\n"
          ]
        }
      ]
    },
    {
      "cell_type": "code",
      "source": [
        "#rdd.map( lambda x: ((x.revisor_id != None, x.revisor_comment == None),1) ).reduceByKey(lambda a,b:a+b).collect()\n",
        "#Output : \n",
        "#[((True, True), 392200), ---> registrado y sin comentario\n",
        "# ((False, True), 77544), ---> no registrado y sin comentario\n",
        "# ((True, False), 3546677), ---> registrado con comentario\n",
        "# ((False, False), 116212)] ---> registrado con comentario"
      ],
      "metadata": {
        "id": "43Ci8TRhgO6-"
      },
      "execution_count": null,
      "outputs": []
    },
    {
      "cell_type": "markdown",
      "source": [
        "Siendo False, para las revisiones echas por usuarios no registrados, sin comentario y True para aquellas hechas por usuarios registrados, sin comentario"
      ],
      "metadata": {
        "id": "XP_7Z4nApEhI"
      }
    },
    {
      "cell_type": "code",
      "source": [
        "rdd.map( lambda x: ((x.revisor_id != None, x.revisor_comment == None),1) ).reduceByKey(lambda a,b:a+b).map( lambda x:(x[0][0], x[1]) ).reduceByKey( lambda a,b: a*100 / (a+b) ).take(2)"
      ],
      "metadata": {
        "colab": {
          "base_uri": "https://localhost:8080/"
        },
        "id": "oapteuXnCwpc",
        "outputId": "363268e8-af72-41c1-cdd0-6257bc54de07"
      },
      "execution_count": 265,
      "outputs": [
        {
          "output_type": "execute_result",
          "data": {
            "text/plain": [
              "[(False, 40.021470302855136), (True, 9.957152762068986)]"
            ]
          },
          "metadata": {},
          "execution_count": 265
        }
      ]
    }
  ]
}