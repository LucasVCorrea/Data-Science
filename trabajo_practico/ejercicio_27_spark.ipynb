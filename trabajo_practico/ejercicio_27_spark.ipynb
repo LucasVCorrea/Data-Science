{
  "nbformat": 4,
  "nbformat_minor": 0,
  "metadata": {
    "colab": {
      "provenance": [],
      "authorship_tag": "ABX9TyOwc8TgVaR/+H4WH3dJ23j3"
    },
    "kernelspec": {
      "name": "python3",
      "display_name": "Python 3"
    },
    "language_info": {
      "name": "python"
    }
  },
  "cells": [
    {
      "cell_type": "code",
      "execution_count": 39,
      "metadata": {
        "id": "B7Vkdn9SPcFW"
      },
      "outputs": [],
      "source": [
        "#La probabilidad de que la versión actual de un contenido fuera editada sin dejar comentario para usuarios que están logueados y que no están logueados (⭐)"
      ]
    },
    {
      "cell_type": "code",
      "source": [
        "!pip install pyspark\n",
        "!pip install -U -q PyDrive\n",
        "!apt update\n",
        "!apt install openjdk-8-jdk-headless -qq\n",
        "#!apt install default-jre\n",
        "#!apt install default-jdk+\n",
        "import os\n",
        "os.environ[\"JAVA_HOME\"] = \"/usr/lib/jvm/java-8-openjdk-amd64\""
      ],
      "metadata": {
        "colab": {
          "base_uri": "https://localhost:8080/"
        },
        "id": "VyB8Yj1fXe6f",
        "outputId": "7a46feca-ae8c-46a1-8144-25802c0f8280"
      },
      "execution_count": 40,
      "outputs": [
        {
          "output_type": "stream",
          "name": "stdout",
          "text": [
            "Looking in indexes: https://pypi.org/simple, https://us-python.pkg.dev/colab-wheels/public/simple/\n",
            "Requirement already satisfied: pyspark in /usr/local/lib/python3.9/dist-packages (3.4.0)\n",
            "Requirement already satisfied: py4j==0.10.9.7 in /usr/local/lib/python3.9/dist-packages (from pyspark) (0.10.9.7)\n",
            "Hit:1 https://cloud.r-project.org/bin/linux/ubuntu focal-cran40/ InRelease\n",
            "Hit:2 https://developer.download.nvidia.com/compute/cuda/repos/ubuntu2004/x86_64  InRelease\n",
            "Get:3 http://security.ubuntu.com/ubuntu focal-security InRelease [114 kB]\n",
            "Hit:4 http://archive.ubuntu.com/ubuntu focal InRelease\n",
            "Get:5 http://ppa.launchpad.net/c2d4u.team/c2d4u4.0+/ubuntu focal InRelease [18.1 kB]\n",
            "Get:6 http://archive.ubuntu.com/ubuntu focal-updates InRelease [114 kB]\n",
            "Hit:7 http://ppa.launchpad.net/cran/libgit2/ubuntu focal InRelease\n",
            "Get:8 http://archive.ubuntu.com/ubuntu focal-backports InRelease [108 kB]\n",
            "Hit:9 http://ppa.launchpad.net/deadsnakes/ppa/ubuntu focal InRelease\n",
            "Hit:10 http://ppa.launchpad.net/graphics-drivers/ppa/ubuntu focal InRelease\n",
            "Hit:11 http://ppa.launchpad.net/ubuntugis/ppa/ubuntu focal InRelease\n",
            "Get:12 http://ppa.launchpad.net/c2d4u.team/c2d4u4.0+/ubuntu focal/main Sources [2,499 kB]\n",
            "Get:13 http://ppa.launchpad.net/c2d4u.team/c2d4u4.0+/ubuntu focal/main amd64 Packages [1,182 kB]\n",
            "Fetched 4,035 kB in 4s (989 kB/s)\n",
            "Reading package lists... Done\n",
            "Building dependency tree       \n",
            "Reading state information... Done\n",
            "35 packages can be upgraded. Run 'apt list --upgradable' to see them.\n",
            "openjdk-8-jdk-headless is already the newest version (8u362-ga-0ubuntu1~20.04.1).\n",
            "0 upgraded, 0 newly installed, 0 to remove and 35 not upgraded.\n"
          ]
        }
      ]
    },
    {
      "cell_type": "code",
      "source": [
        "from pyspark.sql import *\n",
        "from pyspark.sql.functions import *\n",
        "from pyspark import SparkContext\n",
        "from pyspark.sql import SQLContext\n",
        "import pandas as pd"
      ],
      "metadata": {
        "id": "rAAANEB1X9gH"
      },
      "execution_count": 41,
      "outputs": []
    },
    {
      "cell_type": "code",
      "source": [
        "from google.colab import drive\n",
        "drive.mount('/content/drive')"
      ],
      "metadata": {
        "colab": {
          "base_uri": "https://localhost:8080/"
        },
        "id": "FncrvMH_P3h3",
        "outputId": "eaa4b09a-22ae-4e70-85a9-9a04e3acf7b2"
      },
      "execution_count": 42,
      "outputs": [
        {
          "output_type": "stream",
          "name": "stdout",
          "text": [
            "Drive already mounted at /content/drive; to attempt to forcibly remount, call drive.mount(\"/content/drive\", force_remount=True).\n"
          ]
        }
      ]
    },
    {
      "cell_type": "code",
      "source": [
        "spark = SparkSession.builder.getOrCreate()\n",
        "sc = spark.sparkContext"
      ],
      "metadata": {
        "id": "LSipv6tAYdpw"
      },
      "execution_count": 43,
      "outputs": []
    },
    {
      "cell_type": "code",
      "source": [
        "sqlContext = SQLContext(sc)\n",
        "df = sqlContext.read.csv('/content/drive/MyDrive/Organizacion De Datos/Trabajo_practico/contents.csv', header=True, inferSchema=True)\n",
        "rdd = df.rdd"
      ],
      "metadata": {
        "id": "pEHUxYl9YohR",
        "colab": {
          "base_uri": "https://localhost:8080/"
        },
        "outputId": "ecefc9d9-ffd2-45d6-93c4-9785a6d383ab"
      },
      "execution_count": 44,
      "outputs": [
        {
          "output_type": "stream",
          "name": "stderr",
          "text": [
            "/usr/local/lib/python3.9/dist-packages/pyspark/sql/context.py:112: FutureWarning: Deprecated in 3.0.0. Use SparkSession.builder.getOrCreate() instead.\n",
            "  warnings.warn(\n"
          ]
        }
      ]
    },
    {
      "cell_type": "code",
      "source": [
        "rdd.take(5)"
      ],
      "metadata": {
        "colab": {
          "base_uri": "https://localhost:8080/"
        },
        "id": "yXX1-Wambmo5",
        "outputId": "d94c728a-affd-449a-d675-ad3d98379b83"
      },
      "execution_count": 53,
      "outputs": [
        {
          "output_type": "execute_result",
          "data": {
            "text/plain": [
              "[Row(title='Wikipedia:Artículos solicitados', id='5', namespace='4', revision_id='132533307', parent_revision='132516631', revision_timestamp='2021-01-19T18:40:34Z', revisor_username='Metrónomo', revisor_id='1708233', revisor_ip=None, revisor_comment='Así esta mejor'),\n",
              " Row(title='Andorra', id='7', namespace='0', revision_id='138035057', parent_revision='138027475', revision_timestamp='2021-08-31T18:27:01Z', revisor_username=None, revisor_id=None, revisor_ip='2800:CD0:FC1B:A900:C5A4:9E81:7175:2ED2', revisor_comment='Añadir contenido'),\n",
              " Row(title='Argentina', id='10', namespace='0', revision_id='137966826', parent_revision='137825165', revision_timestamp='2021-08-28T17:17:54Z', revisor_username='Traitrich', revisor_id='4642283', revisor_ip=None, revisor_comment='Reemplazos con [[Usuario:Benjavalero/Replacer|Replacer]]: «simbolos»'),\n",
              " Row(title='Geografía de Andorra', id='15', namespace='0', revision_id='137986788', parent_revision='133666383', revision_timestamp='2021-08-29T17:16:00Z', revisor_username='Lojwe', revisor_id='5338508', revisor_ip=None, revisor_comment='Reemplazos con [[Usuario:Benjavalero/Replacer|Replacer]]: «m.»'),\n",
              " Row(title='Demografía de Andorra', id='17', namespace='0', revision_id='130869554', parent_revision='129413188', revision_timestamp='2020-11-12T19:56:15Z', revisor_username='Jialxv', revisor_id='3615366', revisor_ip=None, revisor_comment='Correcciones ortográficas con [[Usuario:Benjavalero/Replacer|Replacer]] (herramienta en línea de revisión de errores)')]"
            ]
          },
          "metadata": {},
          "execution_count": 53
        }
      ]
    },
    {
      "cell_type": "markdown",
      "source": [
        "Cuento cuantas revisiones fueron hechas por usuarios registrados"
      ],
      "metadata": {
        "id": "HkOz7JVGSfNi"
      }
    },
    {
      "cell_type": "code",
      "source": [
        "tot_usuarios_registrados = rdd.filter(lambda x: x.revisor_id).count()\n",
        "tot_usuarios_registrados"
      ],
      "metadata": {
        "colab": {
          "base_uri": "https://localhost:8080/"
        },
        "id": "1rNNn3fdJOo0",
        "outputId": "d8bc005f-cee1-40aa-d128-68e4e234f36e"
      },
      "execution_count": 47,
      "outputs": [
        {
          "output_type": "execute_result",
          "data": {
            "text/plain": [
              "3938877"
            ]
          },
          "metadata": {},
          "execution_count": 47
        }
      ]
    },
    {
      "cell_type": "markdown",
      "source": [
        "Obtengo cuantas revisiones fueron hechas por usuarios NO registrados. Usando el total y las que hicieron los registrados"
      ],
      "metadata": {
        "id": "1GS-wOSCSjAx"
      }
    },
    {
      "cell_type": "code",
      "source": [
        "tot_usuarios_no_registrados = ( rdd.count() - tot_usuarios_registrados ) # --> rdd.filter(lambda x: x.revisor_id == None).count()\n",
        "tot_usuarios_no_registrados"
      ],
      "metadata": {
        "colab": {
          "base_uri": "https://localhost:8080/"
        },
        "id": "whPP8A-XKwTl",
        "outputId": "84d65098-8efd-4f1d-bbbd-83b29c9631fb"
      },
      "execution_count": 48,
      "outputs": [
        {
          "output_type": "execute_result",
          "data": {
            "text/plain": [
              "193756"
            ]
          },
          "metadata": {},
          "execution_count": 48
        }
      ]
    },
    {
      "cell_type": "markdown",
      "source": [
        "Cuento cuantas revisiones hechas por usuarios registrados no tienen comentario"
      ],
      "metadata": {
        "id": "_SeYCehCSpSg"
      }
    },
    {
      "cell_type": "code",
      "source": [
        "registrados_sin_coment = rdd.filter(lambda x: x.revisor_id and not x.revisor_comment).count()\n",
        "registrados_sin_coment"
      ],
      "metadata": {
        "colab": {
          "base_uri": "https://localhost:8080/"
        },
        "id": "EoJuyaD1Mdbv",
        "outputId": "cac2c8ef-aabb-4d80-fe7a-db10febaea9e"
      },
      "execution_count": 49,
      "outputs": [
        {
          "output_type": "execute_result",
          "data": {
            "text/plain": [
              "392200"
            ]
          },
          "metadata": {},
          "execution_count": 49
        }
      ]
    },
    {
      "cell_type": "markdown",
      "source": [
        "Hago lo mismo para usuarios NO registrados"
      ],
      "metadata": {
        "id": "ym38GU8YTOrk"
      }
    },
    {
      "cell_type": "code",
      "source": [
        "no_registrados_sin_coment = rdd.filter(lambda x: not x.revisor_id and not x.revisor_comment).count()\n",
        "no_registrados_sin_coment"
      ],
      "metadata": {
        "colab": {
          "base_uri": "https://localhost:8080/"
        },
        "id": "X214uM8WNA07",
        "outputId": "f4d1708c-49c5-442f-fdbd-d24d1ef66c31"
      },
      "execution_count": 50,
      "outputs": [
        {
          "output_type": "execute_result",
          "data": {
            "text/plain": [
              "77544"
            ]
          },
          "metadata": {},
          "execution_count": 50
        }
      ]
    },
    {
      "cell_type": "markdown",
      "source": [
        "Porcentaje para usuarios registrados"
      ],
      "metadata": {
        "id": "eWpHmVkxPXBk"
      }
    },
    {
      "cell_type": "code",
      "source": [
        "print(\"La probabilidad de que la versión actual de un contenido fuera editada sin dejar comentario para usuarios que están logueados: {}%\".format((registrados_sin_coment*100) / tot_usuarios_registrados) )"
      ],
      "metadata": {
        "colab": {
          "base_uri": "https://localhost:8080/"
        },
        "id": "B0PZinj3PNSh",
        "outputId": "ea31d1e9-0093-4332-9d82-3df3d2494bb6"
      },
      "execution_count": 51,
      "outputs": [
        {
          "output_type": "stream",
          "name": "stdout",
          "text": [
            "La probabilidad de que la versión actual de un contenido fuera editada sin dejar comentario para usuarios que están logueados: 9.957152762068986%\n"
          ]
        }
      ]
    },
    {
      "cell_type": "markdown",
      "source": [
        "Porcentaje para usuarios no registrados"
      ],
      "metadata": {
        "id": "UV3XDwVGPhmA"
      }
    },
    {
      "cell_type": "code",
      "source": [
        "print(\"La probabilidad de que la versión actual de un contenido fuera editada sin dejar comentario para usuarios que No están logueados: {}%\".format((no_registrados_sin_coment*100)/tot_usuarios_no_registrados) )"
      ],
      "metadata": {
        "colab": {
          "base_uri": "https://localhost:8080/"
        },
        "id": "1E6Ei6oDPkph",
        "outputId": "672657e7-6239-40ff-9e88-ad9e12bc6695"
      },
      "execution_count": 52,
      "outputs": [
        {
          "output_type": "stream",
          "name": "stdout",
          "text": [
            "La probabilidad de que la versión actual de un contenido fuera editada sin dejar comentario para usuarios que No están logueados: 40.021470302855136%\n"
          ]
        }
      ]
    }
  ]
}