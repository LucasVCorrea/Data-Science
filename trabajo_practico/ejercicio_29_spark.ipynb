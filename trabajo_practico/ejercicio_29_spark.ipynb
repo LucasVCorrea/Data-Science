{
  "nbformat": 4,
  "nbformat_minor": 0,
  "metadata": {
    "colab": {
      "provenance": [],
      "authorship_tag": "ABX9TyPRP3RHGiIavlkvY29pW4Wo"
    },
    "kernelspec": {
      "name": "python3",
      "display_name": "Python 3"
    },
    "language_info": {
      "name": "python"
    }
  },
  "cells": [
    {
      "cell_type": "code",
      "execution_count": null,
      "metadata": {
        "colab": {
          "base_uri": "https://localhost:8080/"
        },
        "id": "7DIkM12PABjL",
        "outputId": "f1860a63-0d3d-4f3e-a81b-ebb2bff27628"
      },
      "outputs": [
        {
          "output_type": "stream",
          "name": "stdout",
          "text": [
            "Drive already mounted at /content/drive; to attempt to forcibly remount, call drive.mount(\"/content/drive\", force_remount=True).\n"
          ]
        }
      ],
      "source": [
        "from google.colab import drive\n",
        "drive.mount('/content/drive')"
      ]
    },
    {
      "cell_type": "code",
      "source": [
        "!pip install pyspark\n",
        "!pip install -U -q PyDrive\n",
        "!apt update\n",
        "!apt install openjdk-8-jdk-headless -qq\n",
        "import os\n",
        "os.environ[\"JAVA_HOME\"] = \"/usr/lib/jvm/java-8-openjdk-amd64\""
      ],
      "metadata": {
        "id": "9MGBzXDjAEtk",
        "colab": {
          "base_uri": "https://localhost:8080/"
        },
        "outputId": "0bbe0eb7-31f3-47e1-a63c-756897ff9579"
      },
      "execution_count": null,
      "outputs": [
        {
          "output_type": "stream",
          "name": "stdout",
          "text": [
            "Looking in indexes: https://pypi.org/simple, https://us-python.pkg.dev/colab-wheels/public/simple/\n",
            "Requirement already satisfied: pyspark in /usr/local/lib/python3.10/dist-packages (3.4.0)\n",
            "Requirement already satisfied: py4j==0.10.9.7 in /usr/local/lib/python3.10/dist-packages (from pyspark) (0.10.9.7)\n",
            "Hit:1 https://developer.download.nvidia.com/compute/cuda/repos/ubuntu2004/x86_64  InRelease\n",
            "Hit:2 http://ppa.launchpad.net/c2d4u.team/c2d4u4.0+/ubuntu focal InRelease\n",
            "Hit:3 https://cloud.r-project.org/bin/linux/ubuntu focal-cran40/ InRelease\n",
            "Get:4 http://security.ubuntu.com/ubuntu focal-security InRelease [114 kB]\n",
            "Hit:5 http://archive.ubuntu.com/ubuntu focal InRelease\n",
            "Get:6 http://archive.ubuntu.com/ubuntu focal-updates InRelease [114 kB]\n",
            "Hit:7 http://ppa.launchpad.net/cran/libgit2/ubuntu focal InRelease\n",
            "Hit:8 http://ppa.launchpad.net/deadsnakes/ppa/ubuntu focal InRelease\n",
            "Get:9 http://archive.ubuntu.com/ubuntu focal-backports InRelease [108 kB]\n",
            "Hit:10 http://ppa.launchpad.net/graphics-drivers/ppa/ubuntu focal InRelease\n",
            "Hit:11 http://ppa.launchpad.net/ubuntugis/ppa/ubuntu focal InRelease\n",
            "Fetched 336 kB in 2s (142 kB/s)\n",
            "Reading package lists... Done\n",
            "Building dependency tree       \n",
            "Reading state information... Done\n",
            "24 packages can be upgraded. Run 'apt list --upgradable' to see them.\n",
            "openjdk-8-jdk-headless is already the newest version (8u362-ga-0ubuntu1~20.04.1).\n",
            "0 upgraded, 0 newly installed, 0 to remove and 24 not upgraded.\n"
          ]
        }
      ]
    },
    {
      "cell_type": "code",
      "source": [
        "from pyspark.sql import *\n",
        "from pyspark.sql.functions import *\n",
        "from pyspark import SparkContext\n",
        "from pyspark.sql import SQLContext\n",
        "import pandas as pd"
      ],
      "metadata": {
        "id": "QLxMQfLMAJq_"
      },
      "execution_count": null,
      "outputs": []
    },
    {
      "cell_type": "code",
      "source": [
        "spark = SparkSession.builder.getOrCreate()\n",
        "sc = spark.sparkContext"
      ],
      "metadata": {
        "id": "T_iIFxl6ALn5"
      },
      "execution_count": null,
      "outputs": []
    },
    {
      "cell_type": "code",
      "source": [
        "sqlContext = SQLContext(sc)\n",
        "df = sqlContext.read.csv('/content/drive/MyDrive/Organizacion De Datos/Trabajo_practico/contents.csv', header=True, inferSchema=True)\n",
        "rdd = df.rdd"
      ],
      "metadata": {
        "id": "6fZ9UprFAPFD"
      },
      "execution_count": null,
      "outputs": []
    },
    {
      "cell_type": "code",
      "source": [
        "#Para los contenidos visibles en wikipedia, cuales son los artículos que tienen la máxima y mínima distancia entre ids de su revisión actual y la anterior (⭐⭐)"
      ],
      "metadata": {
        "id": "-EXT61M553Ot"
      },
      "execution_count": null,
      "outputs": []
    },
    {
      "cell_type": "code",
      "source": [
        "rdd_filrado = rdd.filter(lambda x:x.revision_id != None and x.parent_revision!=None).cache()  # Filtro de None´s"
      ],
      "metadata": {
        "id": "jByPQeVu3tji"
      },
      "execution_count": null,
      "outputs": []
    },
    {
      "cell_type": "code",
      "source": [
        "rdd_filtrado = rdd_filrado.filter(lambda x: x.revision_id.isnumeric() and x.parent_revision.isnumeric()).cache() # Filtro de aquellos que den false en isnumeric"
      ],
      "metadata": {
        "id": "XoZBcF4U2Z1g"
      },
      "execution_count": null,
      "outputs": []
    },
    {
      "cell_type": "code",
      "source": [
        "rdd_filtrado.map(lambda x: (x.id, (int(x.revision_id) - int(x.parent_revision))) ).take(5)  # Para ver"
      ],
      "metadata": {
        "colab": {
          "base_uri": "https://localhost:8080/"
        },
        "id": "bwZHGL8y-Uia",
        "outputId": "fd54fb5b-6832-41be-d5e0-212cf9dc8c66"
      },
      "execution_count": null,
      "outputs": [
        {
          "output_type": "execute_result",
          "data": {
            "text/plain": [
              "[('5', 16676), ('7', 7582), ('10', 141661), ('15', 4320405), ('17', 1456366)]"
            ]
          },
          "metadata": {},
          "execution_count": 81
        }
      ]
    },
    {
      "cell_type": "code",
      "source": [
        "rdd_limpio = rdd_filtrado.map(lambda x: (x.id, (int(x.revision_id) - int(x.parent_revision))) ).filter(lambda x:x[1]>=0)  # Filtro aquellos con distancia negativa"
      ],
      "metadata": {
        "id": "b9InTdHZ--l1"
      },
      "execution_count": null,
      "outputs": []
    },
    {
      "cell_type": "markdown",
      "source": [
        "Muestro con un takeOrdered por si hay más de una con la maxima (en este caso no)"
      ],
      "metadata": {
        "id": "CRFo4uDnFMIR"
      }
    },
    {
      "cell_type": "code",
      "source": [
        "rdd_limpio.takeOrdered(5, key=lambda x:-x[1])"
      ],
      "metadata": {
        "colab": {
          "base_uri": "https://localhost:8080/"
        },
        "id": "cXTpnQSRDU2g",
        "outputId": "e32d3da4-c70e-4400-d753-2377aa5753f7"
      },
      "execution_count": null,
      "outputs": [
        {
          "output_type": "execute_result",
          "data": {
            "text/plain": [
              "[('30623', 137146746),\n",
              " ('21749', 136997871),\n",
              " ('15167', 136797279),\n",
              " ('165391', 136714513),\n",
              " ('42465', 136703240)]"
            ]
          },
          "metadata": {},
          "execution_count": 95
        }
      ]
    },
    {
      "cell_type": "markdown",
      "source": [
        "Muestro la máxima"
      ],
      "metadata": {
        "id": "4JZmIKMXFR4r"
      }
    },
    {
      "cell_type": "code",
      "source": [
        "rdd_limpio.reduce(lambda a,b:(a and b if a[1]==b[1] else a if a[1]>b[1] else b))"
      ],
      "metadata": {
        "colab": {
          "base_uri": "https://localhost:8080/"
        },
        "id": "6tZnGj7dBjfx",
        "outputId": "ff11ef32-56af-4084-86bf-c6f3d6b0db72"
      },
      "execution_count": null,
      "outputs": [
        {
          "output_type": "execute_result",
          "data": {
            "text/plain": [
              "('30623', 137146746)"
            ]
          },
          "metadata": {},
          "execution_count": 88
        }
      ]
    },
    {
      "cell_type": "markdown",
      "source": [
        "Muestro con el takeOrdered por si hay más de una con la minima (acá si)"
      ],
      "metadata": {
        "id": "hDCDtSGdFVe4"
      }
    },
    {
      "cell_type": "code",
      "source": [
        "rdd_limpio.takeOrdered(5, key=lambda x:x[1])"
      ],
      "metadata": {
        "colab": {
          "base_uri": "https://localhost:8080/"
        },
        "id": "i6qLopo3EEJD",
        "outputId": "4e368a0a-86ff-4134-b535-2ab7f2f607bf"
      },
      "execution_count": null,
      "outputs": [
        {
          "output_type": "execute_result",
          "data": {
            "text/plain": [
              "[('19', 1), ('32', 1), ('51', 1), ('295', 1), ('299', 1)]"
            ]
          },
          "metadata": {},
          "execution_count": 101
        }
      ]
    },
    {
      "cell_type": "markdown",
      "source": [
        "Muestro la mínima"
      ],
      "metadata": {
        "id": "ZeRDN1swFaB9"
      }
    },
    {
      "cell_type": "code",
      "source": [
        "rdd_limpio.reduce(lambda a,b:(a if a[1]<b[1] else (a and b if a[1]==b[1] else b)))"
      ],
      "metadata": {
        "colab": {
          "base_uri": "https://localhost:8080/"
        },
        "id": "i2RGac2RBwN7",
        "outputId": "d56aeb11-f190-442b-d947-4ad9d13c6bb0"
      },
      "execution_count": null,
      "outputs": [
        {
          "output_type": "execute_result",
          "data": {
            "text/plain": [
              "('10010546', 1)"
            ]
          },
          "metadata": {},
          "execution_count": 99
        }
      ]
    }
  ]
}