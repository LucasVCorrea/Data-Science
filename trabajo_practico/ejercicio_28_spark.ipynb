{
  "nbformat": 4,
  "nbformat_minor": 0,
  "metadata": {
    "colab": {
      "provenance": [],
      "authorship_tag": "ABX9TyOZJb9MkIKY5eoBxlQPQ+7H"
    },
    "kernelspec": {
      "name": "python3",
      "display_name": "Python 3"
    },
    "language_info": {
      "name": "python"
    }
  },
  "cells": [
    {
      "cell_type": "code",
      "source": [
        "#El porcentaje de contenidos que están publicados cuya última edición no tiene comentario para los usuarios que realizaron 1, >10 y >100 de las últimas ediciones (⭐⭐)"
      ],
      "metadata": {
        "id": "Zl1qm8z0ZaRz"
      },
      "execution_count": null,
      "outputs": []
    },
    {
      "cell_type": "code",
      "source": [
        "from google.colab import drive\n",
        "drive.mount('/content/drive')"
      ],
      "metadata": {
        "colab": {
          "base_uri": "https://localhost:8080/"
        },
        "id": "i1rB1xnyWUPW",
        "outputId": "07c4abc6-e3fa-4935-cdd3-ab708fc8db8d"
      },
      "execution_count": null,
      "outputs": [
        {
          "output_type": "stream",
          "name": "stdout",
          "text": [
            "Drive already mounted at /content/drive; to attempt to forcibly remount, call drive.mount(\"/content/drive\", force_remount=True).\n"
          ]
        }
      ]
    },
    {
      "cell_type": "code",
      "execution_count": null,
      "metadata": {
        "id": "n8xkFyF7WO6D",
        "colab": {
          "base_uri": "https://localhost:8080/"
        },
        "outputId": "2f980ab4-746b-41ac-e680-f98023b3708f"
      },
      "outputs": [
        {
          "output_type": "stream",
          "name": "stdout",
          "text": [
            "\u001b[33m\r0% [Working]\u001b[0m\r            \rHit:1 https://cloud.r-project.org/bin/linux/ubuntu focal-cran40/ InRelease\n",
            "Hit:2 https://developer.download.nvidia.com/compute/cuda/repos/ubuntu2004/x86_64  InRelease\n",
            "Get:3 http://security.ubuntu.com/ubuntu focal-security InRelease [114 kB]\n",
            "Hit:4 http://ppa.launchpad.net/c2d4u.team/c2d4u4.0+/ubuntu focal InRelease\n",
            "Hit:5 http://archive.ubuntu.com/ubuntu focal InRelease\n",
            "Get:6 http://archive.ubuntu.com/ubuntu focal-updates InRelease [114 kB]\n",
            "Hit:7 http://ppa.launchpad.net/cran/libgit2/ubuntu focal InRelease\n",
            "Hit:8 http://ppa.launchpad.net/deadsnakes/ppa/ubuntu focal InRelease\n",
            "Hit:9 http://ppa.launchpad.net/graphics-drivers/ppa/ubuntu focal InRelease\n",
            "Get:10 http://archive.ubuntu.com/ubuntu focal-backports InRelease [108 kB]\n",
            "Hit:11 http://ppa.launchpad.net/ubuntugis/ppa/ubuntu focal InRelease\n",
            "Fetched 336 kB in 2s (142 kB/s)\n",
            "Reading package lists... Done\n",
            "Building dependency tree       \n",
            "Reading state information... Done\n",
            "26 packages can be upgraded. Run 'apt list --upgradable' to see them.\n",
            "openjdk-8-jdk-headless is already the newest version (8u362-ga-0ubuntu1~20.04.1).\n",
            "0 upgraded, 0 newly installed, 0 to remove and 26 not upgraded.\n"
          ]
        }
      ],
      "source": [
        "!pip install pyspark\n",
        "!pip install -U -q PyDrive\n",
        "!apt update\n",
        "!apt install openjdk-8-jdk-headless -qq\n",
        "#!apt install default-jre\n",
        "#!apt install default-jdk+\n",
        "import os\n",
        "os.environ[\"JAVA_HOME\"] = \"/usr/lib/jvm/java-8-openjdk-amd64\""
      ]
    },
    {
      "cell_type": "code",
      "source": [
        "from pyspark.sql import *\n",
        "from pyspark.sql.functions import *\n",
        "from pyspark import SparkContext\n",
        "from pyspark.sql import SQLContext\n",
        "import pandas as pd"
      ],
      "metadata": {
        "id": "3AmWdKKhWTUE"
      },
      "execution_count": null,
      "outputs": []
    },
    {
      "cell_type": "code",
      "source": [
        "spark = SparkSession.builder.getOrCreate()\n",
        "sc = spark.sparkContext"
      ],
      "metadata": {
        "id": "8woxoq2kWXc0"
      },
      "execution_count": null,
      "outputs": []
    },
    {
      "cell_type": "code",
      "source": [
        "sqlContext = SQLContext(sc)\n",
        "df = sqlContext.read.csv('/content/drive/MyDrive/Organizacion De Datos/Trabajo_practico/contents.csv', header=True, inferSchema=True)\n",
        "rdd = df.rdd"
      ],
      "metadata": {
        "id": "nSYA2JMoWYgP",
        "colab": {
          "base_uri": "https://localhost:8080/"
        },
        "outputId": "4f84dc9b-7eca-4b59-ea2e-ca8e24c79680"
      },
      "execution_count": null,
      "outputs": [
        {
          "output_type": "stream",
          "name": "stderr",
          "text": [
            "/usr/local/lib/python3.9/dist-packages/pyspark/sql/context.py:112: FutureWarning: Deprecated in 3.0.0. Use SparkSession.builder.getOrCreate() instead.\n",
            "  warnings.warn(\n"
          ]
        }
      ]
    },
    {
      "cell_type": "code",
      "source": [
        "rdd.map(lambda x: (x.revisor_id  , 1) ).reduceByKey(lambda a,b:a+b).map(lambda x: [x[1]==1, x[1]>10 ,x[1]>100] ).reduce(lambda a,b: (a[0]+b[0], a[1]+b[1], a[2]+b[2]))"
      ],
      "metadata": {
        "colab": {
          "base_uri": "https://localhost:8080/"
        },
        "id": "NVAxLOSHpBiH",
        "outputId": "988d0730-9ed2-4feb-8dcb-ca31bb724822"
      },
      "execution_count": null,
      "outputs": [
        {
          "output_type": "execute_result",
          "data": {
            "text/plain": [
              "(24776, 6250, 1822)"
            ]
          },
          "metadata": {},
          "execution_count": 8
        }
      ]
    },
    {
      "cell_type": "code",
      "source": [
        "rdd.map(lambda x: (x.revisor_id  , 1) ).countByKey()"
      ],
      "metadata": {
        "id": "sb0m0TQxLTT-"
      },
      "execution_count": null,
      "outputs": []
    },
    {
      "cell_type": "code",
      "source": [
        "rdd.map(lambda x: (x.revisor_id , (x.revisor_comment==None, 1)) ).reduceByKey(lambda a,b:(a[0]+b[0],a[1]+b[1])).take(10)"
      ],
      "metadata": {
        "id": "9f-x2CwbBYI7",
        "colab": {
          "base_uri": "https://localhost:8080/"
        },
        "outputId": "1f7ba2a2-42d9-4416-c3c5-89ad8d94fb3d"
      },
      "execution_count": null,
      "outputs": [
        {
          "data": {
            "text/plain": [
              "[(None, (77544, 193756)),\n",
              " ('3615366', (238, 2905)),\n",
              " ('6331749', (38, 47)),\n",
              " ('15514', (44, 1216)),\n",
              " ('1237851', (104, 760)),\n",
              " ('6179998', (False, 1)),\n",
              " ('24149', (1, 3431)),\n",
              " ('6245048', (0, 9524)),\n",
              " ('5045504', (0, 417275)),\n",
              " ('5862986', (31, 248))]"
            ]
          },
          "execution_count": 20,
          "metadata": {},
          "output_type": "execute_result"
        }
      ]
    },
    {
      "cell_type": "code",
      "source": [
        "rdd.map(lambda x: (x.revisor_id , (x.revisor_comment==None, 1)) ).reduceByKey(lambda a,b:(a[0]+b[0],a[1]+b[1])).map(lambda x:(x,(x[1][0]==1,x[1][0]>10,x[1][0]>100))).take(5)"
      ],
      "metadata": {
        "colab": {
          "base_uri": "https://localhost:8080/"
        },
        "id": "bRNJIZ9re0Cm",
        "outputId": "79eb21a5-fc98-4ad3-9423-27fc08a97d2d"
      },
      "execution_count": null,
      "outputs": [
        {
          "output_type": "execute_result",
          "data": {
            "text/plain": [
              "[((None, (77544, 193756)), (False, True, True)),\n",
              " (('3615366', (238, 2905)), (False, True, True)),\n",
              " (('6331749', (38, 47)), (False, True, False)),\n",
              " (('15514', (44, 1216)), (False, True, False)),\n",
              " (('1237851', (104, 760)), (False, True, True))]"
            ]
          },
          "metadata": {},
          "execution_count": 25
        }
      ]
    },
    {
      "cell_type": "code",
      "source": [
        "#rdd.map(lambda x: ((x.revisor_id, x.revisor_comment==None) ) , 1 ).reduceByKey(lambda a,b:a+b).take(5)"
      ],
      "metadata": {
        "id": "XEooCdGzsFAF"
      },
      "execution_count": null,
      "outputs": []
    },
    {
      "cell_type": "code",
      "source": [
        "#rdd.map(lambda x: ((x.revisor_id, x.revisor_comment==None) ) , 1 ).reduceByKey(lambda a,b:a+b).map(lambda x: (x[1] == 1 , x[1]>10 , x[1]>100)).take(5)"
      ],
      "metadata": {
        "id": "S_2u68_NP6Wy"
      },
      "execution_count": null,
      "outputs": []
    },
    {
      "cell_type": "code",
      "source": [
        "#rdd.map(lambda x: ((x.revisor_id, x.revisor_comment==None) ) , 1 ).reduceByKey(lambda a,b:a+b).map(lambda x: (x,(x[1] == 1, x[1]>10, x[1]>100)) ).take(5)\n"
      ],
      "metadata": {
        "id": "prUX41EAnzix"
      },
      "execution_count": null,
      "outputs": []
    },
    {
      "cell_type": "code",
      "source": [
        "#rdd.map(lambda x: ((x.revisor_id, x.revisor_comment==None) ) , 1 ).reduceByKey(lambda a,b:a+b).map(lambda x: (x[1] == 1, x[1]>10, x[1]>100) ).reduce(lambda a,b: (a[0]+b[0], a[1]+b[1], a[2]+b[2]))"
      ],
      "metadata": {
        "id": "AmjilttJz3K2"
      },
      "execution_count": null,
      "outputs": []
    },
    {
      "cell_type": "code",
      "source": [
        "#rdd.map(lambda x: ((x.revisor_id, x.revisor_comment==None) ) , 1 ).reduceByKey(lambda a,b:a+b).map(lambda x: (('1',x[1] == 1) , ('10',x[1]>10 ), ('100',x[1]>100))).reduceByKey(lambda a,b:a+b).take(5)"
      ],
      "metadata": {
        "id": "YyU7W1sSGOER"
      },
      "execution_count": null,
      "outputs": []
    },
    {
      "cell_type": "code",
      "source": [
        "#rdd.map(lambda x: x.revisor_id and x.revisor_comment == None).count()"
      ],
      "metadata": {
        "id": "u99B2noG-Jk8"
      },
      "execution_count": null,
      "outputs": []
    },
    {
      "cell_type": "code",
      "source": [
        "#rdd.map(lambda x: ((x.revisor_id, x.revisor_comment==None) ) , 1 ).reduceByKey(lambda a,b:a+b).map(lambda x: ( (1 , x[1] == 1) , (10, x[1]>10) , (100,x[1]>100) )).countByKey()\n",
        "# grupo 1 = 44567\n",
        "#.reduceByKey( lambda a,b: a*100 / (a+b) )"
      ],
      "metadata": {
        "id": "do5RDHMxxhp2"
      },
      "execution_count": null,
      "outputs": []
    },
    {
      "cell_type": "code",
      "source": [
        "#rdd.map(lambda x: (x.revisor_id , 1) ).reduceByKey(lambda a,b:a+b).take(10)"
      ],
      "metadata": {
        "id": "3KpXdSstqZas"
      },
      "execution_count": null,
      "outputs": []
    },
    {
      "cell_type": "code",
      "source": [
        "#rdd.map(lambda x: (x.revisor_id , 1) ).reduceByKey(lambda a,b:a+b).map(lambda x: (x[1] == 1, x[1]>10, x[1]>100)).take(10)"
      ],
      "metadata": {
        "id": "g1Hveyr-kLpm"
      },
      "execution_count": null,
      "outputs": []
    }
  ]
}