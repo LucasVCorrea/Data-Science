{
  "nbformat": 4,
  "nbformat_minor": 0,
  "metadata": {
    "colab": {
      "provenance": [],
      "authorship_tag": "ABX9TyMAMfn89OOJRAFHKLVyJe4O"
    },
    "kernelspec": {
      "name": "python3",
      "display_name": "Python 3"
    },
    "language_info": {
      "name": "python"
    }
  },
  "cells": [
    {
      "cell_type": "code",
      "source": [
        "#El porcentaje de contenidos que están publicados cuya última edición no tiene comentario para los usuarios que realizaron 1, >10 y >100 de las últimas ediciones (⭐⭐)"
      ],
      "metadata": {
        "id": "Zl1qm8z0ZaRz"
      },
      "execution_count": 1,
      "outputs": []
    },
    {
      "cell_type": "code",
      "source": [
        "from google.colab import drive\n",
        "drive.mount('/content/drive')"
      ],
      "metadata": {
        "colab": {
          "base_uri": "https://localhost:8080/"
        },
        "id": "i1rB1xnyWUPW",
        "outputId": "69a02b7e-30e4-41b1-cfca-d2969fd0ba5a"
      },
      "execution_count": 2,
      "outputs": [
        {
          "output_type": "stream",
          "name": "stdout",
          "text": [
            "Mounted at /content/drive\n"
          ]
        }
      ]
    },
    {
      "cell_type": "code",
      "execution_count": null,
      "metadata": {
        "id": "n8xkFyF7WO6D"
      },
      "outputs": [],
      "source": [
        "!pip install pyspark\n",
        "!pip install -U -q PyDrive\n",
        "!apt update\n",
        "!apt install openjdk-8-jdk-headless -qq\n",
        "#!apt install default-jre\n",
        "#!apt install default-jdk+\n",
        "import os\n",
        "os.environ[\"JAVA_HOME\"] = \"/usr/lib/jvm/java-8-openjdk-amd64\""
      ]
    },
    {
      "cell_type": "code",
      "source": [
        "from pyspark.sql import *\n",
        "from pyspark.sql.functions import *\n",
        "from pyspark import SparkContext\n",
        "from pyspark.sql import SQLContext\n",
        "import pandas as pd"
      ],
      "metadata": {
        "id": "3AmWdKKhWTUE"
      },
      "execution_count": 4,
      "outputs": []
    },
    {
      "cell_type": "code",
      "source": [
        "spark = SparkSession.builder.getOrCreate()\n",
        "sc = spark.sparkContext"
      ],
      "metadata": {
        "id": "8woxoq2kWXc0"
      },
      "execution_count": 5,
      "outputs": []
    },
    {
      "cell_type": "code",
      "source": [
        "sqlContext = SQLContext(sc)\n",
        "df = sqlContext.read.csv('/content/drive/MyDrive/Organizacion De Datos/Trabajo_practico/contents.csv', header=True, inferSchema=True)\n",
        "rdd = df.rdd"
      ],
      "metadata": {
        "id": "nSYA2JMoWYgP",
        "colab": {
          "base_uri": "https://localhost:8080/"
        },
        "outputId": "aeae3107-edb5-4a19-d775-34d25d3eb1aa"
      },
      "execution_count": 6,
      "outputs": [
        {
          "output_type": "stream",
          "name": "stderr",
          "text": [
            "/usr/local/lib/python3.10/dist-packages/pyspark/sql/context.py:112: FutureWarning: Deprecated in 3.0.0. Use SparkSession.builder.getOrCreate() instead.\n",
            "  warnings.warn(\n"
          ]
        }
      ]
    },
    {
      "cell_type": "markdown",
      "source": [
        "**DISCLAIMER: Lo dejo todo particionado con take´s para que se lea mejor.**"
      ],
      "metadata": {
        "id": "u_Pj8X86HIv3"
      }
    },
    {
      "cell_type": "markdown",
      "source": [
        "No tomo en cuenta aquellos usuarios que no tengan id (que no esten registrados, ya que no deberían poder editar)"
      ],
      "metadata": {
        "id": "dlzgeF6jHTBS"
      }
    },
    {
      "cell_type": "code",
      "source": [
        "rdd_filtrado = rdd.filter(lambda x:x.revisor_id!=None)"
      ],
      "metadata": {
        "id": "rZwY6RYVpHte"
      },
      "execution_count": 15,
      "outputs": []
    },
    {
      "cell_type": "markdown",
      "source": [
        "obtengo de la forma (revisor_id, (#ediciones sin coment, #ediciones totales)"
      ],
      "metadata": {
        "id": "tuUPK9pcHj4I"
      }
    },
    {
      "cell_type": "code",
      "source": [
        "rdd_filtrado.map(lambda x: (x.revisor_id , (x.revisor_comment==None, 1)) ).reduceByKey(lambda a,b:(a[0]+b[0],a[1]+b[1])).take(5)"
      ],
      "metadata": {
        "colab": {
          "base_uri": "https://localhost:8080/"
        },
        "id": "folUfFcTCxMM",
        "outputId": "cfd42f96-d9cc-4fbc-9637-0189f962e305"
      },
      "execution_count": 16,
      "outputs": [
        {
          "output_type": "execute_result",
          "data": {
            "text/plain": [
              "[('3615366', (238, 2905)),\n",
              " ('6331749', (38, 47)),\n",
              " ('15514', (44, 1216)),\n",
              " ('1237851', (104, 760)),\n",
              " ('6179998', (False, 1))]"
            ]
          },
          "metadata": {},
          "execution_count": 16
        }
      ]
    },
    {
      "cell_type": "markdown",
      "source": [
        "funciones para setear los grupos en el flatmap que uso luego"
      ],
      "metadata": {
        "id": "gnIvWrhUHyLo"
      }
    },
    {
      "cell_type": "code",
      "source": [
        "def elegir_grupo_1(x):\n",
        "  if x[1][1] == 1:\n",
        "    return (x[1][0],x[1][1])\n",
        "  \n",
        "  else:\n",
        "    return (0,0)\n",
        "\n",
        "def elegir_grupo_10(x):\n",
        "  if x[1][1] > 10:\n",
        "    return (x[1][0],x[1][1])\n",
        "  \n",
        "  else:\n",
        "    return (0,0)\n",
        "\n",
        "def elegir_grupo_100(x):\n",
        "  if x[1][1] > 100:\n",
        "    return (x[1][0],x[1][1])\n",
        "  \n",
        "  else:\n",
        "    return (0,0)"
      ],
      "metadata": {
        "id": "-Kj1-X-LTqTz"
      },
      "execution_count": 9,
      "outputs": []
    },
    {
      "cell_type": "markdown",
      "source": [
        "por cada registro, obtengo 3 que me dicen si pertenece al grupo indicado en la clave (revisiones sin coment, revisiones totales) o si no (0,0)"
      ],
      "metadata": {
        "id": "2UWUY-0HH_hZ"
      }
    },
    {
      "cell_type": "code",
      "source": [
        "rdd_filtrado.map(lambda x: (x.revisor_id , (x.revisor_comment==None, 1)) ).reduceByKey(lambda a,b:(a[0]+b[0],a[1]+b[1])).flatMap(\n",
        "    lambda x:[ ('1',(elegir_grupo_1(x))),('10',(elegir_grupo_10(x)) ), ('100',(elegir_grupo_100(x))) ]).take(6)"
      ],
      "metadata": {
        "colab": {
          "base_uri": "https://localhost:8080/"
        },
        "id": "4ef6gDYpC2JU",
        "outputId": "02154157-f0b1-41be-f618-da689085e8e4"
      },
      "execution_count": 20,
      "outputs": [
        {
          "output_type": "execute_result",
          "data": {
            "text/plain": [
              "[('1', (0, 0)),\n",
              " ('10', (238, 2905)),\n",
              " ('100', (238, 2905)),\n",
              " ('1', (0, 0)),\n",
              " ('10', (38, 47)),\n",
              " ('100', (0, 0))]"
            ]
          },
          "metadata": {},
          "execution_count": 20
        }
      ]
    },
    {
      "cell_type": "markdown",
      "source": [
        "sumo por clave y por valor "
      ],
      "metadata": {
        "id": "ytTdbW-AIuna"
      }
    },
    {
      "cell_type": "code",
      "source": [
        "rdd_filtrado.map(lambda x: (x.revisor_id , (x.revisor_comment==None, 1)) ).reduceByKey(lambda a,b:(a[0]+b[0],a[1]+b[1])).flatMap(\n",
        "    lambda x:[ ('1',(elegir_grupo_1(x))),('10',(elegir_grupo_10(x)) ), ('100',(elegir_grupo_100(x))) ]).reduceByKey(lambda a,b:(a[0]+b[0], a[1]+b[1])).take(6)"
      ],
      "metadata": {
        "colab": {
          "base_uri": "https://localhost:8080/"
        },
        "id": "DXIZeIrhC5Co",
        "outputId": "8bf7b457-d8b6-44fc-cac3-b72474d5245c"
      },
      "execution_count": 21,
      "outputs": [
        {
          "output_type": "execute_result",
          "data": {
            "text/plain": [
              "[('10', (373713, 3862375)), ('100', (343424, 3719443)), ('1', (6349, 24776))]"
            ]
          },
          "metadata": {},
          "execution_count": 21
        }
      ]
    },
    {
      "cell_type": "markdown",
      "source": [
        "obtengo porcentajes"
      ],
      "metadata": {
        "id": "rOZXvLxjIyMt"
      }
    },
    {
      "cell_type": "code",
      "source": [
        "rdd_filtrado.map(lambda x: (x.revisor_id , (x.revisor_comment==None, 1)) ).reduceByKey(lambda a,b:(a[0]+b[0],a[1]+b[1])).flatMap(\n",
        "    lambda x:[ ('1',(elegir_grupo_1(x))),('10',(elegir_grupo_10(x)) ), ('100',(elegir_grupo_100(x))) ]).reduceByKey(lambda a,b:(a[0]+b[0], a[1]+b[1])).map(lambda x:(x[0],x[1][0]*100/x[1][1])).take(3)"
      ],
      "metadata": {
        "colab": {
          "base_uri": "https://localhost:8080/"
        },
        "id": "CaEh7tQCpMuC",
        "outputId": "df367aeb-5709-4a9d-f814-390327e9f86e"
      },
      "execution_count": 19,
      "outputs": [
        {
          "output_type": "execute_result",
          "data": {
            "text/plain": [
              "[('10', 9.675730606168484),\n",
              " ('100', 9.233210456511902),\n",
              " ('1', 25.625605424604455)]"
            ]
          },
          "metadata": {},
          "execution_count": 19
        }
      ]
    }
  ]
}